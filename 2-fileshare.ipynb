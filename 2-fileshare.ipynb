{
 "cells": [
  {
   "cell_type": "markdown",
   "metadata": {
    "lc_cell_meme": {
     "current": "1da2afe2-b496-11e8-a19b-0242ac110001",
     "history": [
      {
       "current": "1da2afe2-b496-11e8-a19b-0242ac110001",
       "next": "d61890ba-b495-11e8-a19b-0242ac110001",
       "previous": null
      }
     ],
     "next": "6525c1c4-b496-11e8-a19b-0242ac110001",
     "previous": null
    }
   },
   "source": [
    "# サーバー構築研修 Step2 手順書(CentOS 7)"
   ]
  },
  {
   "cell_type": "markdown",
   "metadata": {
    "lc_cell_meme": {
     "current": "6525c1c4-b496-11e8-a19b-0242ac110001",
     "history": [
      {
       "current": "6525c1c4-b496-11e8-a19b-0242ac110001",
       "next": "d61890ba-b495-11e8-a19b-0242ac110001",
       "previous": "1da2afe2-b496-11e8-a19b-0242ac110001"
      }
     ],
     "next": "acab4cb2-b496-11e8-a19b-0242ac110001",
     "previous": "1da2afe2-b496-11e8-a19b-0242ac110001"
    }
   },
   "source": [
    "## 概要"
   ]
  },
  {
   "cell_type": "markdown",
   "metadata": {
    "lc_cell_meme": {
     "current": "acab4cb2-b496-11e8-a19b-0242ac110001",
     "history": [
      {
       "current": "acab4cb2-b496-11e8-a19b-0242ac110001",
       "next": "d61890ba-b495-11e8-a19b-0242ac110001",
       "previous": "6525c1c4-b496-11e8-a19b-0242ac110001"
      }
     ],
     "next": "3bb916b4-b497-11e8-a19b-0242ac110001",
     "previous": "6525c1c4-b496-11e8-a19b-0242ac110001"
    }
   },
   "source": [
    "- NFSサーバーを構築する\n",
    "  - NFSサーバーを設定する\n",
    "  - NFSクライアントを設定する\n",
    "  - ファイルをNFS上に配置し、Webサーバから同じファイルが参照出来る事を確認する\n",
    "  - Webサーバを経由し、NFSのファイルが参照出来る事を確認する\n",
    "    - Apacheの`DocumentRoot`をNFSサーバ上のディレクトリに変更\n",
    "    - NFSサーバで作成したHTMLをブラウザ上で確認する\n",
    "  - CIFSの設定を行い、自身のPCからCIFSサーバ上へ以下が行える事を確認する\n",
    "    - サーバ上のファイルの参照\n",
    "    - Windows PCからサーバへのファイルのアップロード\n",
    "    - 上記でアップロードしたファイルのサーバ上での参照\n",
    "    - PCからサーバ上のファイルの更新"
   ]
  },
  {
   "cell_type": "markdown",
   "metadata": {
    "lc_cell_meme": {
     "current": "3bb916b4-b497-11e8-a19b-0242ac110001",
     "history": [
      {
       "current": "3bb916b4-b497-11e8-a19b-0242ac110001",
       "next": "d61890ba-b495-11e8-a19b-0242ac110001",
       "previous": "acab4cb2-b496-11e8-a19b-0242ac110001"
      }
     ],
     "next": "833fb97a-b497-11e8-a19b-0242ac110001",
     "previous": "acab4cb2-b496-11e8-a19b-0242ac110001"
    }
   },
   "source": [
    "まずは作成した仮想環境へ、Jupyter上で接続する為に必要な設定を行う"
   ]
  },
  {
   "cell_type": "markdown",
   "metadata": {
    "lc_cell_meme": {
     "current": "833fb97a-b497-11e8-a19b-0242ac110001",
     "next": "833fbcd6-b497-11e8-a19b-0242ac110001",
     "previous": "3bb916b4-b497-11e8-a19b-0242ac110001"
    }
   },
   "source": [
    "## 事前設定(鍵交換)"
   ]
  },
  {
   "cell_type": "markdown",
   "metadata": {
    "lc_cell_meme": {
     "current": "833fbcd6-b497-11e8-a19b-0242ac110001",
     "next": "d61890ba-b495-11e8-a19b-0242ac110001",
     "previous": "833fb97a-b497-11e8-a19b-0242ac110001"
    }
   },
   "source": [
    "NFSサーバに、パスワード無しにSSHで操作するために設定を行う  \n",
    "最初に作成した仮想環境のIPアドレスを設定する"
   ]
  },
  {
   "cell_type": "code",
   "execution_count": 97,
   "metadata": {
    "deletable": false,
    "editable": false,
    "lc_cell_meme": {
     "current": "d61890ba-b495-11e8-a19b-0242ac110001",
     "history": [
      {
       "current": "d61890ba-b495-11e8-a19b-0242ac110001",
       "next": "d61892f4-b495-11e8-a19b-0242ac110001",
       "previous": null
      },
      {
       "current": "d61890ba-b495-11e8-a19b-0242ac110001",
       "next": "d61892f4-b495-11e8-a19b-0242ac110001",
       "previous": "1da2afe2-b496-11e8-a19b-0242ac110001"
      },
      {
       "current": "d61890ba-b495-11e8-a19b-0242ac110001",
       "next": "d61892f4-b495-11e8-a19b-0242ac110001",
       "previous": "6525c1c4-b496-11e8-a19b-0242ac110001"
      },
      {
       "current": "d61890ba-b495-11e8-a19b-0242ac110001",
       "next": "d61892f4-b495-11e8-a19b-0242ac110001",
       "previous": "acab4cb2-b496-11e8-a19b-0242ac110001"
      },
      {
       "current": "d61890ba-b495-11e8-a19b-0242ac110001",
       "next": "d61892f4-b495-11e8-a19b-0242ac110001",
       "previous": "3bb916b4-b497-11e8-a19b-0242ac110001"
      }
     ],
     "next": "d61892f4-b495-11e8-a19b-0242ac110001",
     "previous": "833fbcd6-b497-11e8-a19b-0242ac110001"
    },
    "run_through_control": {
     "frozen": true,
     "read_only": false
    }
   },
   "outputs": [],
   "source": [
    "IP_ADDRESS_NFS=192.168.1.233"
   ]
  },
  {
   "cell_type": "code",
   "execution_count": 98,
   "metadata": {
    "deletable": false,
    "editable": false,
    "lc_cell_meme": {
     "current": "d61892f4-b495-11e8-a19b-0242ac110001",
     "history": [
      {
       "current": "d61892f4-b495-11e8-a19b-0242ac110001",
       "next": null,
       "previous": "d61890ba-b495-11e8-a19b-0242ac110001"
      }
     ],
     "next": "833fbf10-b497-11e8-a19b-0242ac110001",
     "previous": "d61890ba-b495-11e8-a19b-0242ac110001"
    },
    "run_through_control": {
     "frozen": true,
     "read_only": false
    }
   },
   "outputs": [
    {
     "name": "stdout",
     "output_type": "stream",
     "text": [
      "192.168.1.233\n"
     ]
    }
   ],
   "source": [
    "echo ${IP_ADDRESS_NFS}"
   ]
  },
  {
   "cell_type": "markdown",
   "metadata": {
    "lc_cell_meme": {
     "current": "833fbf10-b497-11e8-a19b-0242ac110001",
     "history": [
      {
       "current": "833fbf10-b497-11e8-a19b-0242ac110001",
       "next": null,
       "previous": "d61892f4-b495-11e8-a19b-0242ac110001"
      },
      {
       "current": "833fbf10-b497-11e8-a19b-0242ac110001",
       "next": "59d43ba0-b498-11e8-a19b-0242ac110001",
       "previous": "d61892f4-b495-11e8-a19b-0242ac110001"
      },
      {
       "current": "833fbf10-b497-11e8-a19b-0242ac110001",
       "next": "77ee7bfe-b499-11e8-a19b-0242ac110001",
       "previous": "d61892f4-b495-11e8-a19b-0242ac110001"
      }
     ],
     "next": "59d43ba0-b498-11e8-a19b-0242ac110001",
     "previous": "d61892f4-b495-11e8-a19b-0242ac110001"
    }
   },
   "source": [
    "以下のコマンドをターミナル上`(New > Terminal)`で実行する"
   ]
  },
  {
   "cell_type": "code",
   "execution_count": 99,
   "metadata": {
    "deletable": false,
    "editable": false,
    "lc_cell_meme": {
     "current": "59d43ba0-b498-11e8-a19b-0242ac110001",
     "history": [
      {
       "current": "59d43ba0-b498-11e8-a19b-0242ac110001",
       "next": "59d43f38-b498-11e8-a19b-0242ac110001",
       "previous": "833fbf10-b497-11e8-a19b-0242ac110001"
      },
      {
       "current": "59d43ba0-b498-11e8-a19b-0242ac110001",
       "next": "59d43f38-b498-11e8-a19b-0242ac110001",
       "previous": "77ee7bfe-b499-11e8-a19b-0242ac110001"
      },
      {
       "current": "59d43ba0-b498-11e8-a19b-0242ac110001",
       "next": "59d43f38-b498-11e8-a19b-0242ac110001",
       "previous": "833fbf10-b497-11e8-a19b-0242ac110001"
      }
     ],
     "next": "06fde38e-b49a-11e8-a19b-0242ac110001",
     "previous": "833fbf10-b497-11e8-a19b-0242ac110001"
    },
    "run_through_control": {
     "frozen": true,
     "read_only": false
    }
   },
   "outputs": [
    {
     "name": "stdout",
     "output_type": "stream",
     "text": [
      "/usr/bin/ssh-copy-id: INFO: attempting to log in with the new key(s), to filter out any that are already installed\n",
      "\n",
      "/usr/bin/ssh-copy-id: WARNING: All keys were skipped because they already exist on the remote system.\n",
      "\n"
     ]
    }
   ],
   "source": [
    "# ターミナルで実施\n",
    "ssh-copy-id root@${IP_ADDRESS_NFS}\n",
    "\n",
    "# e.g. # ssh-copy-id root@192.168.1.211"
   ]
  },
  {
   "cell_type": "markdown",
   "metadata": {
    "lc_cell_meme": {
     "current": "06fde38e-b49a-11e8-a19b-0242ac110001",
     "history": [
      {
       "current": "06fde38e-b49a-11e8-a19b-0242ac110001",
       "next": null,
       "previous": "06fde03c-b49a-11e8-a19b-0242ac110001"
      },
      {
       "current": "06fde38e-b49a-11e8-a19b-0242ac110001",
       "next": "4e80d68a-b49a-11e8-a19b-0242ac110001",
       "previous": "06fde03c-b49a-11e8-a19b-0242ac110001"
      }
     ],
     "next": "4e80d68a-b49a-11e8-a19b-0242ac110001",
     "previous": "59d43ba0-b498-11e8-a19b-0242ac110001"
    }
   },
   "source": [
    "## ログイン確認"
   ]
  },
  {
   "cell_type": "markdown",
   "metadata": {
    "lc_cell_meme": {
     "current": "4e80d68a-b49a-11e8-a19b-0242ac110001",
     "history": [
      {
       "current": "4e80d68a-b49a-11e8-a19b-0242ac110001",
       "next": null,
       "previous": "06fde38e-b49a-11e8-a19b-0242ac110001"
      }
     ],
     "next": "96072bda-b49a-11e8-a19b-0242ac110001",
     "previous": "06fde38e-b49a-11e8-a19b-0242ac110001"
    }
   },
   "source": [
    "ログイン確認を行う  \n",
    "設定したホスト名`nfs1`が表示されたらOK"
   ]
  },
  {
   "cell_type": "code",
   "execution_count": 100,
   "metadata": {
    "deletable": false,
    "editable": false,
    "lc_cell_meme": {
     "current": "96072bda-b49a-11e8-a19b-0242ac110001",
     "history": [
      {
       "current": "96072bda-b49a-11e8-a19b-0242ac110001",
       "next": "96072f2c-b49a-11e8-a19b-0242ac110001",
       "previous": "4e80d68a-b49a-11e8-a19b-0242ac110001"
      }
     ],
     "next": "9e219852-b579-11e8-a19b-0242ac110001",
     "previous": "4e80d68a-b49a-11e8-a19b-0242ac110001"
    },
    "run_through_control": {
     "frozen": true,
     "read_only": false
    }
   },
   "outputs": [
    {
     "name": "stdout",
     "output_type": "stream",
     "text": [
      "nfs1\n"
     ]
    }
   ],
   "source": [
    "ssh root@${IP_ADDRESS_NFS} \"hostname\""
   ]
  },
  {
   "cell_type": "markdown",
   "metadata": {
    "lc_cell_meme": {
     "current": "9e219852-b579-11e8-a19b-0242ac110001",
     "history": [
      {
       "current": "9e219852-b579-11e8-a19b-0242ac110001",
       "next": "9e219bea-b579-11e8-a19b-0242ac110001",
       "previous": "96072bda-b49a-11e8-a19b-0242ac110001"
      }
     ],
     "next": "e5a85972-b579-11e8-a19b-0242ac110001",
     "previous": "96072bda-b49a-11e8-a19b-0242ac110001"
    }
   },
   "source": [
    "Step1で作成したWebサーバの接続を確認する"
   ]
  },
  {
   "cell_type": "code",
   "execution_count": 101,
   "metadata": {
    "deletable": false,
    "editable": false,
    "lc_cell_meme": {
     "current": "e5a85972-b579-11e8-a19b-0242ac110001",
     "next": "9e219bea-b579-11e8-a19b-0242ac110001",
     "previous": "9e219852-b579-11e8-a19b-0242ac110001"
    },
    "run_through_control": {
     "frozen": true,
     "read_only": false
    }
   },
   "outputs": [],
   "source": [
    "IP_ADDRESS_WEB=192.168.1.231"
   ]
  },
  {
   "cell_type": "code",
   "execution_count": 103,
   "metadata": {
    "deletable": false,
    "editable": false,
    "lc_cell_meme": {
     "current": "9e219bea-b579-11e8-a19b-0242ac110001",
     "history": [
      {
       "current": "9e219bea-b579-11e8-a19b-0242ac110001",
       "next": "96072f2c-b49a-11e8-a19b-0242ac110001",
       "previous": "9e219852-b579-11e8-a19b-0242ac110001"
      },
      {
       "current": "9e219bea-b579-11e8-a19b-0242ac110001",
       "next": "96072f2c-b49a-11e8-a19b-0242ac110001",
       "previous": "e5a85972-b579-11e8-a19b-0242ac110001"
      }
     ],
     "next": "505a1f72-b597-11e8-a19b-0242ac110001",
     "previous": "e5a85972-b579-11e8-a19b-0242ac110001"
    },
    "run_through_control": {
     "frozen": true,
     "read_only": false
    }
   },
   "outputs": [
    {
     "name": "stdout",
     "output_type": "stream",
     "text": [
      "www1\n"
     ]
    }
   ],
   "source": [
    "ssh root@${IP_ADDRESS_WEB} \"hostname\""
   ]
  },
  {
   "cell_type": "markdown",
   "metadata": {
    "lc_cell_meme": {
     "current": "505a1f72-b597-11e8-a19b-0242ac110001",
     "next": "505a22b0-b597-11e8-a19b-0242ac110001",
     "previous": "9e219bea-b579-11e8-a19b-0242ac110001"
    }
   },
   "source": [
    "また、`100.1.1.0/24`のネットワーク上で互いに疎通する事を確認する"
   ]
  },
  {
   "cell_type": "code",
   "execution_count": 104,
   "metadata": {
    "deletable": false,
    "editable": false,
    "lc_cell_meme": {
     "current": "505a22b0-b597-11e8-a19b-0242ac110001",
     "next": "505a24ea-b597-11e8-a19b-0242ac110001",
     "previous": "505a1f72-b597-11e8-a19b-0242ac110001"
    },
    "run_through_control": {
     "frozen": true,
     "read_only": false
    }
   },
   "outputs": [
    {
     "name": "stdout",
     "output_type": "stream",
     "text": [
      "PING 100.1.1.3 (100.1.1.3) 56(84) bytes of data.\n",
      "64 bytes from 100.1.1.3: icmp_seq=1 ttl=64 time=0.729 ms\n",
      "64 bytes from 100.1.1.3: icmp_seq=2 ttl=64 time=0.287 ms\n",
      "64 bytes from 100.1.1.3: icmp_seq=3 ttl=64 time=0.297 ms\n",
      "64 bytes from 100.1.1.3: icmp_seq=4 ttl=64 time=0.294 ms\n",
      "\n",
      "--- 100.1.1.3 ping statistics ---\n",
      "4 packets transmitted, 4 received, 0% packet loss, time 3000ms\n",
      "rtt min/avg/max/mdev = 0.287/0.401/0.729/0.190 ms\n"
     ]
    }
   ],
   "source": [
    "ssh root@${IP_ADDRESS_WEB} \"ping -c 4 100.1.1.3\""
   ]
  },
  {
   "cell_type": "code",
   "execution_count": 105,
   "metadata": {
    "deletable": false,
    "editable": false,
    "lc_cell_meme": {
     "current": "505a24ea-b597-11e8-a19b-0242ac110001",
     "next": "96072f2c-b49a-11e8-a19b-0242ac110001",
     "previous": "505a22b0-b597-11e8-a19b-0242ac110001"
    },
    "run_through_control": {
     "frozen": true,
     "read_only": false
    }
   },
   "outputs": [
    {
     "name": "stdout",
     "output_type": "stream",
     "text": [
      "PING 100.1.1.1 (100.1.1.1) 56(84) bytes of data.\n",
      "64 bytes from 100.1.1.1: icmp_seq=1 ttl=64 time=0.255 ms\n",
      "64 bytes from 100.1.1.1: icmp_seq=2 ttl=64 time=0.215 ms\n",
      "64 bytes from 100.1.1.1: icmp_seq=3 ttl=64 time=0.279 ms\n",
      "64 bytes from 100.1.1.1: icmp_seq=4 ttl=64 time=11.0 ms\n",
      "\n",
      "--- 100.1.1.1 ping statistics ---\n",
      "4 packets transmitted, 4 received, 0% packet loss, time 3014ms\n",
      "rtt min/avg/max/mdev = 0.215/2.939/11.010/4.659 ms\n"
     ]
    }
   ],
   "source": [
    "ssh root@${IP_ADDRESS_NFS} \"ping -c 4 100.1.1.1\""
   ]
  },
  {
   "cell_type": "markdown",
   "metadata": {
    "lc_cell_meme": {
     "current": "96072f2c-b49a-11e8-a19b-0242ac110001",
     "history": [
      {
       "current": "96072f2c-b49a-11e8-a19b-0242ac110001",
       "next": null,
       "previous": "96072bda-b49a-11e8-a19b-0242ac110001"
      },
      {
       "current": "96072f2c-b49a-11e8-a19b-0242ac110001",
       "next": "b4229a18-b49b-11e8-a19b-0242ac110001",
       "previous": "96072bda-b49a-11e8-a19b-0242ac110001"
      },
      {
       "current": "96072f2c-b49a-11e8-a19b-0242ac110001",
       "next": "b4229a18-b49b-11e8-a19b-0242ac110001",
       "previous": "9e219bea-b579-11e8-a19b-0242ac110001"
      }
     ],
     "next": "b4229a18-b49b-11e8-a19b-0242ac110001",
     "previous": "505a24ea-b597-11e8-a19b-0242ac110001"
    }
   },
   "source": [
    "## NFSサーバの設定"
   ]
  },
  {
   "cell_type": "markdown",
   "metadata": {
    "lc_cell_meme": {
     "current": "b4229a18-b49b-11e8-a19b-0242ac110001",
     "history": [
      {
       "current": "b4229a18-b49b-11e8-a19b-0242ac110001",
       "next": null,
       "previous": "96072f2c-b49a-11e8-a19b-0242ac110001"
      }
     ],
     "next": "fba96a24-b49b-11e8-a19b-0242ac110001",
     "previous": "96072f2c-b49a-11e8-a19b-0242ac110001"
    }
   },
   "source": [
    "NFSがインストールされているか確認する"
   ]
  },
  {
   "cell_type": "code",
   "execution_count": 106,
   "metadata": {
    "deletable": false,
    "editable": false,
    "lc_cell_meme": {
     "current": "fba96a24-b49b-11e8-a19b-0242ac110001",
     "next": "fba96d6c-b49b-11e8-a19b-0242ac110001",
     "previous": "b4229a18-b49b-11e8-a19b-0242ac110001"
    },
    "run_through_control": {
     "frozen": true,
     "read_only": false
    }
   },
   "outputs": [
    {
     "name": "stdout",
     "output_type": "stream",
     "text": [
      "nfs-utils-1.3.0-0.54.el7.x86_64\n",
      "nfs4-acl-tools-0.3.3-17.el7.x86_64\n",
      "libnfsidmap-0.25-19.el7.x86_64\n"
     ]
    }
   ],
   "source": [
    "ssh root@${IP_ADDRESS_NFS} \"rpm -qa | grep nfs\""
   ]
  },
  {
   "cell_type": "markdown",
   "metadata": {
    "lc_cell_meme": {
     "current": "fba96d6c-b49b-11e8-a19b-0242ac110001",
     "history": [
      {
       "current": "fba96d6c-b49b-11e8-a19b-0242ac110001",
       "next": null,
       "previous": "fba96a24-b49b-11e8-a19b-0242ac110001"
      }
     ],
     "next": "432f755a-b49c-11e8-a19b-0242ac110001",
     "previous": "fba96a24-b49b-11e8-a19b-0242ac110001"
    }
   },
   "source": [
    "NFSの設定ファイル`/etc/exports`が存在するか確認する"
   ]
  },
  {
   "cell_type": "code",
   "execution_count": 107,
   "metadata": {
    "deletable": false,
    "editable": false,
    "lc_cell_meme": {
     "current": "432f755a-b49c-11e8-a19b-0242ac110001",
     "history": [
      {
       "current": "432f755a-b49c-11e8-a19b-0242ac110001",
       "next": "432f7898-b49c-11e8-a19b-0242ac110001",
       "previous": "fba96d6c-b49b-11e8-a19b-0242ac110001"
      }
     ],
     "next": "f30833f8-b4a2-11e8-a19b-0242ac110001",
     "previous": "fba96d6c-b49b-11e8-a19b-0242ac110001"
    },
    "run_through_control": {
     "frozen": true,
     "read_only": false
    }
   },
   "outputs": [
    {
     "name": "stdout",
     "output_type": "stream",
     "text": [
      "-rw-r--r--. 1 root root 59 Sep 13 19:25 /etc/exports\n"
     ]
    }
   ],
   "source": [
    "ssh root@${IP_ADDRESS_NFS} \"ls -l /etc/exports\""
   ]
  },
  {
   "cell_type": "markdown",
   "metadata": {
    "lc_cell_meme": {
     "current": "f30833f8-b4a2-11e8-a19b-0242ac110001",
     "history": [
      {
       "current": "f30833f8-b4a2-11e8-a19b-0242ac110001",
       "next": null,
       "previous": "432f7898-b49c-11e8-a19b-0242ac110001"
      },
      {
       "current": "f30833f8-b4a2-11e8-a19b-0242ac110001",
       "next": null,
       "previous": "432f755a-b49c-11e8-a19b-0242ac110001"
      }
     ],
     "next": "1126b3fe-b4a4-11e8-a19b-0242ac110001",
     "previous": "432f755a-b49c-11e8-a19b-0242ac110001"
    }
   },
   "source": [
    "`/etc/exports`が空白になっている事を確認する"
   ]
  },
  {
   "cell_type": "code",
   "execution_count": 108,
   "metadata": {
    "deletable": false,
    "editable": false,
    "lc_cell_meme": {
     "current": "1126b3fe-b4a4-11e8-a19b-0242ac110001",
     "next": "1126b732-b4a4-11e8-a19b-0242ac110001",
     "previous": "f30833f8-b4a2-11e8-a19b-0242ac110001"
    },
    "run_through_control": {
     "frozen": true,
     "read_only": false
    }
   },
   "outputs": [],
   "source": [
    "ssh root@${IP_ADDRESS_NFS} \"echo -n > /etc/exports\"\n",
    "ssh root@${IP_ADDRESS_NFS} \"cat /etc/exports\""
   ]
  },
  {
   "cell_type": "markdown",
   "metadata": {
    "lc_cell_meme": {
     "current": "1126b732-b4a4-11e8-a19b-0242ac110001",
     "history": [
      {
       "current": "1126b732-b4a4-11e8-a19b-0242ac110001",
       "next": null,
       "previous": "1126b3fe-b4a4-11e8-a19b-0242ac110001"
      },
      {
       "current": "1126b732-b4a4-11e8-a19b-0242ac110001",
       "next": "a03098f8-b4a4-11e8-a19b-0242ac110001",
       "previous": "1126b3fe-b4a4-11e8-a19b-0242ac110001"
      },
      {
       "current": "1126b732-b4a4-11e8-a19b-0242ac110001",
       "next": "a0309c90-b4a4-11e8-a19b-0242ac110001",
       "previous": "1126b3fe-b4a4-11e8-a19b-0242ac110001"
      }
     ],
     "next": "f0481fea-b4a5-11e8-a19b-0242ac110001",
     "previous": "1126b3fe-b4a4-11e8-a19b-0242ac110001"
    }
   },
   "source": [
    "NFSサーバの`/var/www/html`を、`100.1.1.0/24`のネットワークから接続できるようにする。"
   ]
  },
  {
   "cell_type": "code",
   "execution_count": 109,
   "metadata": {
    "deletable": false,
    "editable": false,
    "lc_cell_meme": {
     "current": "f0481fea-b4a5-11e8-a19b-0242ac110001",
     "next": "a0309c90-b4a4-11e8-a19b-0242ac110001",
     "previous": "1126b732-b4a4-11e8-a19b-0242ac110001"
    },
    "run_through_control": {
     "frozen": true,
     "read_only": false
    }
   },
   "outputs": [],
   "source": [
    "ssh root@${IP_ADDRESS_NFS} \"echo '/var/www/html   100.1.1.0/255.255.255.0(rw,no_root_squash)' >> /etc/exports\""
   ]
  },
  {
   "cell_type": "code",
   "execution_count": 110,
   "metadata": {
    "deletable": false,
    "editable": false,
    "lc_cell_meme": {
     "current": "a0309c90-b4a4-11e8-a19b-0242ac110001",
     "history": [
      {
       "current": "a0309c90-b4a4-11e8-a19b-0242ac110001",
       "next": null,
       "previous": "a03098f8-b4a4-11e8-a19b-0242ac110001"
      },
      {
       "current": "a0309c90-b4a4-11e8-a19b-0242ac110001",
       "next": null,
       "previous": "1126b732-b4a4-11e8-a19b-0242ac110001"
      },
      {
       "current": "a0309c90-b4a4-11e8-a19b-0242ac110001",
       "next": "f0482396-b4a5-11e8-a19b-0242ac110001",
       "previous": "f0481fea-b4a5-11e8-a19b-0242ac110001"
      }
     ],
     "next": "3ff5ab2a-b57d-11e8-a19b-0242ac110001",
     "previous": "f0481fea-b4a5-11e8-a19b-0242ac110001"
    },
    "run_through_control": {
     "frozen": true,
     "read_only": false
    }
   },
   "outputs": [
    {
     "name": "stdout",
     "output_type": "stream",
     "text": [
      "/var/www/html   100.1.1.0/255.255.255.0(rw,no_root_squash)\n"
     ]
    }
   ],
   "source": [
    "ssh root@${IP_ADDRESS_NFS} \"cat /etc/exports\""
   ]
  },
  {
   "cell_type": "markdown",
   "metadata": {
    "lc_cell_meme": {
     "current": "3ff5ab2a-b57d-11e8-a19b-0242ac110001",
     "next": "3ff5aec2-b57d-11e8-a19b-0242ac110001",
     "previous": "a0309c90-b4a4-11e8-a19b-0242ac110001"
    }
   },
   "source": [
    "Jupyterの`index.html`を、NFSサーバの`/var/www/html`にscpコマンドで配置する"
   ]
  },
  {
   "cell_type": "code",
   "execution_count": 111,
   "metadata": {
    "deletable": false,
    "editable": false,
    "lc_cell_meme": {
     "current": "3ff5aec2-b57d-11e8-a19b-0242ac110001",
     "history": [
      {
       "current": "3ff5aec2-b57d-11e8-a19b-0242ac110001",
       "next": "3ff5b0fc-b57d-11e8-a19b-0242ac110001",
       "previous": "3ff5ab2a-b57d-11e8-a19b-0242ac110001"
      },
      {
       "current": "3ff5aec2-b57d-11e8-a19b-0242ac110001",
       "next": "84da6cee-b73f-11e8-a19b-0242ac110001",
       "previous": "3ff5ab2a-b57d-11e8-a19b-0242ac110001"
      }
     ],
     "next": "3ff5b0fc-b57d-11e8-a19b-0242ac110001",
     "previous": "3ff5ab2a-b57d-11e8-a19b-0242ac110001"
    },
    "run_through_control": {
     "frozen": true,
     "read_only": false
    }
   },
   "outputs": [
    {
     "name": "stdout",
     "output_type": "stream",
     "text": [
      "<html>\n",
      "    <head>\n",
      "        <title>Network File System</title>\n",
      "    </head>\n",
      "    <body>\n",
      "        Network File System(NFS)は主にUNIXで利用される分散ファイルシステムおよびそのプロトコルである。1984年にサン・マイクロシステムズによって実質的な最初の規格となるNFS version 2 (NFS v2) が発表され、RFC 1094・RFC 1813・RFC 3530などによって定義されている。(wikiからコピペ)\n",
      "    </body>\n",
      "</html>"
     ]
    }
   ],
   "source": [
    "cat /notebooks/001_project/サーバー構築研修/CentOS_7/Step-2/index.html"
   ]
  },
  {
   "cell_type": "code",
   "execution_count": 112,
   "metadata": {
    "deletable": false,
    "editable": false,
    "lc_cell_meme": {
     "current": "3ff5b0fc-b57d-11e8-a19b-0242ac110001",
     "history": [
      {
       "current": "3ff5b0fc-b57d-11e8-a19b-0242ac110001",
       "next": "f0482396-b4a5-11e8-a19b-0242ac110001",
       "previous": "3ff5aec2-b57d-11e8-a19b-0242ac110001"
      },
      {
       "current": "3ff5b0fc-b57d-11e8-a19b-0242ac110001",
       "next": "f0482396-b4a5-11e8-a19b-0242ac110001",
       "previous": "84da6cee-b73f-11e8-a19b-0242ac110001"
      }
     ],
     "next": "f0482396-b4a5-11e8-a19b-0242ac110001",
     "previous": "3ff5aec2-b57d-11e8-a19b-0242ac110001"
    },
    "run_through_control": {
     "frozen": true,
     "read_only": false
    }
   },
   "outputs": [
    {
     "name": "stdout",
     "output_type": "stream",
     "text": [
      "\r",
      "index.html                                      0%    0     0.0KB/s   --:-- ETA\r",
      "index.html                                    100%  467     0.5KB/s   00:00    \n"
     ]
    }
   ],
   "source": [
    "scp /notebooks/001_project/サーバー構築研修/CentOS_7/Step-2/index.html root@${IP_ADDRESS_NFS}:/var/www/html"
   ]
  },
  {
   "cell_type": "markdown",
   "metadata": {
    "lc_cell_meme": {
     "current": "f0482396-b4a5-11e8-a19b-0242ac110001",
     "history": [
      {
       "current": "f0482396-b4a5-11e8-a19b-0242ac110001",
       "next": null,
       "previous": "a0309c90-b4a4-11e8-a19b-0242ac110001"
      },
      {
       "current": "f0482396-b4a5-11e8-a19b-0242ac110001",
       "next": "7f53c8b0-b4a6-11e8-a19b-0242ac110001",
       "previous": "a0309c90-b4a4-11e8-a19b-0242ac110001"
      }
     ],
     "next": "7f53c8b0-b4a6-11e8-a19b-0242ac110001",
     "previous": "3ff5b0fc-b57d-11e8-a19b-0242ac110001"
    }
   },
   "source": [
    "NFSサーバの`/var/www/html`に配置されているか確認する"
   ]
  },
  {
   "cell_type": "code",
   "execution_count": 113,
   "metadata": {
    "deletable": false,
    "editable": false,
    "lc_cell_meme": {
     "current": "7f53c8b0-b4a6-11e8-a19b-0242ac110001",
     "history": [
      {
       "current": "7f53c8b0-b4a6-11e8-a19b-0242ac110001",
       "next": "7f53cc02-b4a6-11e8-a19b-0242ac110001",
       "previous": "f0482396-b4a5-11e8-a19b-0242ac110001"
      },
      {
       "current": "7f53c8b0-b4a6-11e8-a19b-0242ac110001",
       "next": "55e775d4-b4a7-11e8-a19b-0242ac110001",
       "previous": "f0482396-b4a5-11e8-a19b-0242ac110001"
      },
      {
       "current": "7f53c8b0-b4a6-11e8-a19b-0242ac110001",
       "next": "cf03b550-b57d-11e8-a19b-0242ac110001",
       "previous": "f0482396-b4a5-11e8-a19b-0242ac110001"
      }
     ],
     "next": "55e775d4-b4a7-11e8-a19b-0242ac110001",
     "previous": "f0482396-b4a5-11e8-a19b-0242ac110001"
    },
    "run_through_control": {
     "frozen": true,
     "read_only": false
    }
   },
   "outputs": [
    {
     "name": "stdout",
     "output_type": "stream",
     "text": [
      "<html>\n",
      "    <head>\n",
      "        <title>Network File System</title>\n",
      "    </head>\n",
      "    <body>\n",
      "        Network File System(NFS)は主にUNIXで利用される分散ファイルシステムおよびそのプロトコルである。1984年にサン・マイクロシステムズによって実質的な最初の規格となるNFS version 2 (NFS v2) が発表され、RFC 1094・RFC 1813・RFC 3530などによって定義されている。(wikiからコピペ)\n",
      "    </body>\n",
      "</html>"
     ]
    }
   ],
   "source": [
    "ssh root@${IP_ADDRESS_NFS} \"cat /var/www/html/index.html\""
   ]
  },
  {
   "cell_type": "markdown",
   "metadata": {
    "lc_cell_meme": {
     "current": "55e775d4-b4a7-11e8-a19b-0242ac110001",
     "history": [
      {
       "current": "55e775d4-b4a7-11e8-a19b-0242ac110001",
       "next": "7f53cc02-b4a6-11e8-a19b-0242ac110001",
       "previous": "7f53c8b0-b4a6-11e8-a19b-0242ac110001"
      },
      {
       "current": "55e775d4-b4a7-11e8-a19b-0242ac110001",
       "next": "7f53cc02-b4a6-11e8-a19b-0242ac110001",
       "previous": "cf03c78e-b57d-11e8-a19b-0242ac110001"
      }
     ],
     "next": "7f53cc02-b4a6-11e8-a19b-0242ac110001",
     "previous": "7f53c8b0-b4a6-11e8-a19b-0242ac110001"
    }
   },
   "source": [
    "## NFSサービスの実行"
   ]
  },
  {
   "cell_type": "markdown",
   "metadata": {
    "lc_cell_meme": {
     "current": "7f53cc02-b4a6-11e8-a19b-0242ac110001",
     "history": [
      {
       "current": "7f53cc02-b4a6-11e8-a19b-0242ac110001",
       "next": null,
       "previous": "7f53c8b0-b4a6-11e8-a19b-0242ac110001"
      },
      {
       "current": "7f53cc02-b4a6-11e8-a19b-0242ac110001",
       "next": "0e628474-b4a7-11e8-a19b-0242ac110001",
       "previous": "7f53c8b0-b4a6-11e8-a19b-0242ac110001"
      }
     ],
     "next": "0e628474-b4a7-11e8-a19b-0242ac110001",
     "previous": "55e775d4-b4a7-11e8-a19b-0242ac110001"
    }
   },
   "source": [
    "NFSサービスを起動する"
   ]
  },
  {
   "cell_type": "code",
   "execution_count": 114,
   "metadata": {
    "deletable": false,
    "editable": false,
    "lc_cell_meme": {
     "current": "0e628474-b4a7-11e8-a19b-0242ac110001",
     "next": "0e6287c6-b4a7-11e8-a19b-0242ac110001",
     "previous": "7f53cc02-b4a6-11e8-a19b-0242ac110001"
    },
    "run_through_control": {
     "frozen": true,
     "read_only": false
    }
   },
   "outputs": [],
   "source": [
    "ssh root@${IP_ADDRESS_NFS} \"systemctl restart nfs\""
   ]
  },
  {
   "cell_type": "markdown",
   "metadata": {
    "lc_cell_meme": {
     "current": "0e6287c6-b4a7-11e8-a19b-0242ac110001",
     "history": [
      {
       "current": "0e6287c6-b4a7-11e8-a19b-0242ac110001",
       "next": null,
       "previous": "0e628474-b4a7-11e8-a19b-0242ac110001"
      }
     ],
     "next": "55e77926-b4a7-11e8-a19b-0242ac110001",
     "previous": "0e628474-b4a7-11e8-a19b-0242ac110001"
    }
   },
   "source": [
    "サービスが稼働しているか確認する"
   ]
  },
  {
   "cell_type": "code",
   "execution_count": 115,
   "metadata": {
    "deletable": false,
    "editable": false,
    "lc_cell_meme": {
     "current": "55e77926-b4a7-11e8-a19b-0242ac110001",
     "history": [
      {
       "current": "55e77926-b4a7-11e8-a19b-0242ac110001",
       "next": "55e77b56-b4a7-11e8-a19b-0242ac110001",
       "previous": "0e6287c6-b4a7-11e8-a19b-0242ac110001"
      }
     ],
     "next": "cf03b550-b57d-11e8-a19b-0242ac110001",
     "previous": "0e6287c6-b4a7-11e8-a19b-0242ac110001"
    },
    "run_through_control": {
     "frozen": true,
     "read_only": false
    }
   },
   "outputs": [
    {
     "name": "stdout",
     "output_type": "stream",
     "text": [
      "● nfs-server.service - NFS server and services\n",
      "   Loaded: loaded (/usr/lib/systemd/system/nfs-server.service; disabled; vendor preset: disabled)\n",
      "  Drop-In: /run/systemd/generator/nfs-server.service.d\n",
      "           └─order-with-mounts.conf\n",
      "   Active: active (exited) since Wed 2018-09-26 10:13:35 JST; 13s ago\n",
      "  Process: 18897 ExecStopPost=/usr/sbin/exportfs -f (code=exited, status=0/SUCCESS)\n",
      "  Process: 18894 ExecStopPost=/usr/sbin/exportfs -au (code=exited, status=0/SUCCESS)\n",
      "  Process: 18892 ExecStop=/usr/sbin/rpc.nfsd 0 (code=exited, status=0/SUCCESS)\n",
      "  Process: 18914 ExecStart=/usr/sbin/rpc.nfsd $RPCNFSDARGS (code=exited, status=0/SUCCESS)\n",
      "  Process: 18911 ExecStartPre=/bin/sh -c /bin/kill -HUP `cat /run/gssproxy.pid` (code=exited, status=0/SUCCESS)\n",
      "  Process: 18908 ExecStartPre=/usr/sbin/exportfs -r (code=exited, status=0/SUCCESS)\n",
      " Main PID: 18914 (code=exited, status=0/SUCCESS)\n",
      "   CGroup: /system.slice/nfs-server.service\n",
      "\n",
      "Sep 26 10:13:34 nfs1 systemd[1]: Starting NFS server and services...\n",
      "Sep 26 10:13:35 nfs1 systemd[1]: Started NFS server and services.\n"
     ]
    }
   ],
   "source": [
    "ssh root@${IP_ADDRESS_NFS} \"systemctl status nfs\""
   ]
  },
  {
   "cell_type": "markdown",
   "metadata": {
    "lc_cell_meme": {
     "current": "cf03b550-b57d-11e8-a19b-0242ac110001",
     "history": [
      {
       "current": "cf03b550-b57d-11e8-a19b-0242ac110001",
       "next": "cf03b88e-b57d-11e8-a19b-0242ac110001",
       "previous": "7f53c8b0-b4a6-11e8-a19b-0242ac110001"
      },
      {
       "current": "cf03b550-b57d-11e8-a19b-0242ac110001",
       "next": "34a36c24-b57f-11e8-a19b-0242ac110001",
       "previous": "7f53c8b0-b4a6-11e8-a19b-0242ac110001"
      }
     ],
     "next": "34a36c24-b57f-11e8-a19b-0242ac110001",
     "previous": "55e77926-b4a7-11e8-a19b-0242ac110001"
    }
   },
   "source": [
    "## NFSクライアントの設定"
   ]
  },
  {
   "cell_type": "markdown",
   "metadata": {
    "lc_cell_meme": {
     "current": "34a36c24-b57f-11e8-a19b-0242ac110001",
     "next": "cf03b88e-b57d-11e8-a19b-0242ac110001",
     "previous": "cf03b550-b57d-11e8-a19b-0242ac110001"
    }
   },
   "source": [
    "WEBサーバ上で、mountコマンドで現在の状態を確認する"
   ]
  },
  {
   "cell_type": "code",
   "execution_count": 116,
   "metadata": {
    "deletable": false,
    "editable": false,
    "lc_cell_meme": {
     "current": "cf03b88e-b57d-11e8-a19b-0242ac110001",
     "history": [
      {
       "current": "cf03b88e-b57d-11e8-a19b-0242ac110001",
       "next": "cf03babe-b57d-11e8-a19b-0242ac110001",
       "previous": "cf03b550-b57d-11e8-a19b-0242ac110001"
      }
     ],
     "next": "cf03babe-b57d-11e8-a19b-0242ac110001",
     "previous": "34a36c24-b57f-11e8-a19b-0242ac110001"
    },
    "run_through_control": {
     "frozen": true,
     "read_only": false
    }
   },
   "outputs": [
    {
     "name": "stdout",
     "output_type": "stream",
     "text": [
      "sysfs on /sys type sysfs (rw,nosuid,nodev,noexec,relatime)\n",
      "proc on /proc type proc (rw,nosuid,nodev,noexec,relatime)\n",
      "devtmpfs on /dev type devtmpfs (rw,nosuid,size=930500k,nr_inodes=232625,mode=755)\n",
      "securityfs on /sys/kernel/security type securityfs (rw,nosuid,nodev,noexec,relatime)\n",
      "tmpfs on /dev/shm type tmpfs (rw,nosuid,nodev)\n",
      "devpts on /dev/pts type devpts (rw,nosuid,noexec,relatime,gid=5,mode=620,ptmxmode=000)\n",
      "tmpfs on /run type tmpfs (rw,nosuid,nodev,mode=755)\n",
      "tmpfs on /sys/fs/cgroup type tmpfs (ro,nosuid,nodev,noexec,mode=755)\n",
      "cgroup on /sys/fs/cgroup/systemd type cgroup (rw,nosuid,nodev,noexec,relatime,xattr,release_agent=/usr/lib/systemd/systemd-cgroups-agent,name=systemd)\n",
      "pstore on /sys/fs/pstore type pstore (rw,nosuid,nodev,noexec,relatime)\n",
      "cgroup on /sys/fs/cgroup/cpu,cpuacct type cgroup (rw,nosuid,nodev,noexec,relatime,cpuacct,cpu)\n",
      "cgroup on /sys/fs/cgroup/perf_event type cgroup (rw,nosuid,nodev,noexec,relatime,perf_event)\n",
      "cgroup on /sys/fs/cgroup/net_cls,net_prio type cgroup (rw,nosuid,nodev,noexec,relatime,net_prio,net_cls)\n",
      "cgroup on /sys/fs/cgroup/cpuset type cgroup (rw,nosuid,nodev,noexec,relatime,cpuset)\n",
      "cgroup on /sys/fs/cgroup/devices type cgroup (rw,nosuid,nodev,noexec,relatime,devices)\n",
      "cgroup on /sys/fs/cgroup/memory type cgroup (rw,nosuid,nodev,noexec,relatime,memory)\n",
      "cgroup on /sys/fs/cgroup/pids type cgroup (rw,nosuid,nodev,noexec,relatime,pids)\n",
      "cgroup on /sys/fs/cgroup/hugetlb type cgroup (rw,nosuid,nodev,noexec,relatime,hugetlb)\n",
      "cgroup on /sys/fs/cgroup/freezer type cgroup (rw,nosuid,nodev,noexec,relatime,freezer)\n",
      "cgroup on /sys/fs/cgroup/blkio type cgroup (rw,nosuid,nodev,noexec,relatime,blkio)\n",
      "configfs on /sys/kernel/config type configfs (rw,relatime)\n",
      "/dev/sda3 on / type xfs (rw,relatime,attr2,inode64,noquota)\n",
      "systemd-1 on /proc/sys/fs/binfmt_misc type autofs (rw,relatime,fd=30,pgrp=1,timeout=0,minproto=5,maxproto=5,direct,pipe_ino=9823)\n",
      "debugfs on /sys/kernel/debug type debugfs (rw,relatime)\n",
      "hugetlbfs on /dev/hugepages type hugetlbfs (rw,relatime)\n",
      "mqueue on /dev/mqueue type mqueue (rw,relatime)\n",
      "/dev/sda1 on /boot type xfs (rw,relatime,attr2,inode64,noquota)\n",
      "sunrpc on /var/lib/nfs/rpc_pipefs type rpc_pipefs (rw,relatime)\n",
      "tmpfs on /run/user/0 type tmpfs (rw,nosuid,nodev,relatime,size=188304k,mode=700)\n"
     ]
    }
   ],
   "source": [
    "ssh root@${IP_ADDRESS_WEB} \"mount\""
   ]
  },
  {
   "cell_type": "markdown",
   "metadata": {
    "lc_cell_meme": {
     "current": "cf03babe-b57d-11e8-a19b-0242ac110001",
     "history": [
      {
       "current": "cf03babe-b57d-11e8-a19b-0242ac110001",
       "next": "cf03bd52-b57d-11e8-a19b-0242ac110001",
       "previous": "cf03b88e-b57d-11e8-a19b-0242ac110001"
      }
     ],
     "next": "5b6e0680-b740-11e8-a19b-0242ac110001",
     "previous": "cf03b88e-b57d-11e8-a19b-0242ac110001"
    }
   },
   "source": [
    "`100.1.1.0/24`のネットワーク経由で、NFSサーバー`/var/www/html`をWEBサーバの`/mnt/html`へマウントする"
   ]
  },
  {
   "cell_type": "code",
   "execution_count": 117,
   "metadata": {
    "lc_cell_meme": {
     "current": "5b6e0680-b740-11e8-a19b-0242ac110001",
     "next": "cf03bd52-b57d-11e8-a19b-0242ac110001",
     "previous": "cf03babe-b57d-11e8-a19b-0242ac110001"
    }
   },
   "outputs": [
    {
     "name": "stdout",
     "output_type": "stream",
     "text": [
      "mkdir: cannot create directory ‘/mnt/html’: File exists\n"
     ]
    },
    {
     "ename": "",
     "evalue": "1",
     "output_type": "error",
     "traceback": []
    }
   ],
   "source": [
    "ssh root@${IP_ADDRESS_WEB} \"mkdir /mnt/html\""
   ]
  },
  {
   "cell_type": "code",
   "execution_count": 118,
   "metadata": {
    "deletable": false,
    "editable": false,
    "lc_cell_meme": {
     "current": "cf03bd52-b57d-11e8-a19b-0242ac110001",
     "history": [
      {
       "current": "cf03bd52-b57d-11e8-a19b-0242ac110001",
       "next": "cf03bf64-b57d-11e8-a19b-0242ac110001",
       "previous": "cf03babe-b57d-11e8-a19b-0242ac110001"
      }
     ],
     "next": "cf03bf64-b57d-11e8-a19b-0242ac110001",
     "previous": "5b6e0680-b740-11e8-a19b-0242ac110001"
    },
    "run_through_control": {
     "frozen": true,
     "read_only": false
    }
   },
   "outputs": [],
   "source": [
    "ssh root@${IP_ADDRESS_WEB} \"mount -t nfs 100.1.1.3:/var/www/html /mnt/html\""
   ]
  },
  {
   "cell_type": "markdown",
   "metadata": {
    "lc_cell_meme": {
     "current": "cf03bf64-b57d-11e8-a19b-0242ac110001",
     "next": "cf03c176-b57d-11e8-a19b-0242ac110001",
     "previous": "cf03bd52-b57d-11e8-a19b-0242ac110001"
    }
   },
   "source": [
    "マウント出来ている事を確認する"
   ]
  },
  {
   "cell_type": "code",
   "execution_count": 119,
   "metadata": {
    "deletable": false,
    "editable": false,
    "lc_cell_meme": {
     "current": "cf03c176-b57d-11e8-a19b-0242ac110001",
     "next": "cf03c37e-b57d-11e8-a19b-0242ac110001",
     "previous": "cf03bf64-b57d-11e8-a19b-0242ac110001"
    },
    "run_through_control": {
     "frozen": true,
     "read_only": false
    }
   },
   "outputs": [
    {
     "name": "stdout",
     "output_type": "stream",
     "text": [
      "sysfs on /sys type sysfs (rw,nosuid,nodev,noexec,relatime)\n",
      "proc on /proc type proc (rw,nosuid,nodev,noexec,relatime)\n",
      "devtmpfs on /dev type devtmpfs (rw,nosuid,size=930500k,nr_inodes=232625,mode=755)\n",
      "securityfs on /sys/kernel/security type securityfs (rw,nosuid,nodev,noexec,relatime)\n",
      "tmpfs on /dev/shm type tmpfs (rw,nosuid,nodev)\n",
      "devpts on /dev/pts type devpts (rw,nosuid,noexec,relatime,gid=5,mode=620,ptmxmode=000)\n",
      "tmpfs on /run type tmpfs (rw,nosuid,nodev,mode=755)\n",
      "tmpfs on /sys/fs/cgroup type tmpfs (ro,nosuid,nodev,noexec,mode=755)\n",
      "cgroup on /sys/fs/cgroup/systemd type cgroup (rw,nosuid,nodev,noexec,relatime,xattr,release_agent=/usr/lib/systemd/systemd-cgroups-agent,name=systemd)\n",
      "pstore on /sys/fs/pstore type pstore (rw,nosuid,nodev,noexec,relatime)\n",
      "cgroup on /sys/fs/cgroup/cpu,cpuacct type cgroup (rw,nosuid,nodev,noexec,relatime,cpuacct,cpu)\n",
      "cgroup on /sys/fs/cgroup/perf_event type cgroup (rw,nosuid,nodev,noexec,relatime,perf_event)\n",
      "cgroup on /sys/fs/cgroup/net_cls,net_prio type cgroup (rw,nosuid,nodev,noexec,relatime,net_prio,net_cls)\n",
      "cgroup on /sys/fs/cgroup/cpuset type cgroup (rw,nosuid,nodev,noexec,relatime,cpuset)\n",
      "cgroup on /sys/fs/cgroup/devices type cgroup (rw,nosuid,nodev,noexec,relatime,devices)\n",
      "cgroup on /sys/fs/cgroup/memory type cgroup (rw,nosuid,nodev,noexec,relatime,memory)\n",
      "cgroup on /sys/fs/cgroup/pids type cgroup (rw,nosuid,nodev,noexec,relatime,pids)\n",
      "cgroup on /sys/fs/cgroup/hugetlb type cgroup (rw,nosuid,nodev,noexec,relatime,hugetlb)\n",
      "cgroup on /sys/fs/cgroup/freezer type cgroup (rw,nosuid,nodev,noexec,relatime,freezer)\n",
      "cgroup on /sys/fs/cgroup/blkio type cgroup (rw,nosuid,nodev,noexec,relatime,blkio)\n",
      "configfs on /sys/kernel/config type configfs (rw,relatime)\n",
      "/dev/sda3 on / type xfs (rw,relatime,attr2,inode64,noquota)\n",
      "systemd-1 on /proc/sys/fs/binfmt_misc type autofs (rw,relatime,fd=30,pgrp=1,timeout=0,minproto=5,maxproto=5,direct,pipe_ino=9823)\n",
      "debugfs on /sys/kernel/debug type debugfs (rw,relatime)\n",
      "hugetlbfs on /dev/hugepages type hugetlbfs (rw,relatime)\n",
      "mqueue on /dev/mqueue type mqueue (rw,relatime)\n",
      "/dev/sda1 on /boot type xfs (rw,relatime,attr2,inode64,noquota)\n",
      "sunrpc on /var/lib/nfs/rpc_pipefs type rpc_pipefs (rw,relatime)\n",
      "100.1.1.3:/var/www/html on /mnt/html type nfs4 (rw,relatime,vers=4.1,rsize=262144,wsize=262144,namlen=255,hard,proto=tcp,port=0,timeo=600,retrans=2,sec=sys,clientaddr=100.1.1.1,local_lock=none,addr=100.1.1.3)\n",
      "tmpfs on /run/user/0 type tmpfs (rw,nosuid,nodev,relatime,size=188304k,mode=700)\n"
     ]
    }
   ],
   "source": [
    "ssh root@${IP_ADDRESS_WEB} \"mount\""
   ]
  },
  {
   "cell_type": "markdown",
   "metadata": {
    "lc_cell_meme": {
     "current": "cf03c37e-b57d-11e8-a19b-0242ac110001",
     "next": "cf03c586-b57d-11e8-a19b-0242ac110001",
     "previous": "cf03c176-b57d-11e8-a19b-0242ac110001"
    }
   },
   "source": [
    "## 動作確認"
   ]
  },
  {
   "cell_type": "markdown",
   "metadata": {
    "lc_cell_meme": {
     "current": "cf03c586-b57d-11e8-a19b-0242ac110001",
     "history": [
      {
       "current": "cf03c586-b57d-11e8-a19b-0242ac110001",
       "next": "cf03c78e-b57d-11e8-a19b-0242ac110001",
       "previous": "cf03c37e-b57d-11e8-a19b-0242ac110001"
      }
     ],
     "next": "906c43ec-b592-11e8-a19b-0242ac110001",
     "previous": "cf03c37e-b57d-11e8-a19b-0242ac110001"
    }
   },
   "source": [
    "WEBサーバ側の`/mnt/html`から、NFSサーバの`/var/www/html/index.html`を参照できる事を確認する"
   ]
  },
  {
   "cell_type": "code",
   "execution_count": 120,
   "metadata": {
    "deletable": false,
    "editable": false,
    "lc_cell_meme": {
     "current": "906c43ec-b592-11e8-a19b-0242ac110001",
     "next": "cf03c78e-b57d-11e8-a19b-0242ac110001",
     "previous": "cf03c586-b57d-11e8-a19b-0242ac110001"
    },
    "run_through_control": {
     "frozen": true,
     "read_only": false
    }
   },
   "outputs": [
    {
     "name": "stdout",
     "output_type": "stream",
     "text": [
      "<html>\n",
      "    <head>\n",
      "        <title>Network File System</title>\n",
      "    </head>\n",
      "    <body>\n",
      "        Network File System(NFS)は主にUNIXで利用される分散ファイルシステムおよびそのプロトコルである。1984年にサン・マイクロシステムズによって実質的な最初の規格となるNFS version 2 (NFS v2) が発表され、RFC 1094・RFC 1813・RFC 3530などによって定義されている。(wikiからコピペ)\n",
      "    </body>\n",
      "</html>"
     ]
    }
   ],
   "source": [
    "ssh root@${IP_ADDRESS_NFS} \"cat /var/www/html/index.html\""
   ]
  },
  {
   "cell_type": "code",
   "execution_count": 121,
   "metadata": {
    "deletable": false,
    "editable": false,
    "lc_cell_meme": {
     "current": "cf03c78e-b57d-11e8-a19b-0242ac110001",
     "history": [
      {
       "current": "cf03c78e-b57d-11e8-a19b-0242ac110001",
       "next": "55e775d4-b4a7-11e8-a19b-0242ac110001",
       "previous": "cf03c586-b57d-11e8-a19b-0242ac110001"
      },
      {
       "current": "cf03c78e-b57d-11e8-a19b-0242ac110001",
       "next": "55e77b56-b4a7-11e8-a19b-0242ac110001",
       "previous": "cf03c586-b57d-11e8-a19b-0242ac110001"
      },
      {
       "current": "cf03c78e-b57d-11e8-a19b-0242ac110001",
       "next": "55e77b56-b4a7-11e8-a19b-0242ac110001",
       "previous": "906c43ec-b592-11e8-a19b-0242ac110001"
      },
      {
       "current": "cf03c78e-b57d-11e8-a19b-0242ac110001",
       "next": "d825875c-b592-11e8-a19b-0242ac110001",
       "previous": "906c43ec-b592-11e8-a19b-0242ac110001"
      },
      {
       "current": "cf03c78e-b57d-11e8-a19b-0242ac110001",
       "next": "d8258a86-b592-11e8-a19b-0242ac110001",
       "previous": "906c43ec-b592-11e8-a19b-0242ac110001"
      }
     ],
     "next": "498ddb38-b59d-11e8-a19b-0242ac110001",
     "previous": "906c43ec-b592-11e8-a19b-0242ac110001"
    },
    "run_through_control": {
     "frozen": true,
     "read_only": false
    }
   },
   "outputs": [
    {
     "name": "stdout",
     "output_type": "stream",
     "text": [
      "<html>\n",
      "    <head>\n",
      "        <title>Network File System</title>\n",
      "    </head>\n",
      "    <body>\n",
      "        Network File System(NFS)は主にUNIXで利用される分散ファイルシステムおよびそのプロトコルである。1984年にサン・マイクロシステムズによって実質的な最初の規格となるNFS version 2 (NFS v2) が発表され、RFC 1094・RFC 1813・RFC 3530などによって定義されている。(wikiからコピペ)\n",
      "    </body>\n",
      "</html>"
     ]
    }
   ],
   "source": [
    "ssh root@${IP_ADDRESS_WEB} \"cat /mnt/html/index.html\""
   ]
  },
  {
   "cell_type": "markdown",
   "metadata": {
    "lc_cell_meme": {
     "current": "498ddb38-b59d-11e8-a19b-0242ac110001",
     "history": [
      {
       "current": "498ddb38-b59d-11e8-a19b-0242ac110001",
       "next": "d825875c-b592-11e8-a19b-0242ac110001",
       "previous": "cf03c78e-b57d-11e8-a19b-0242ac110001"
      },
      {
       "current": "498ddb38-b59d-11e8-a19b-0242ac110001",
       "next": "7c688c7e-b59d-11e8-a19b-0242ac110001",
       "previous": "cf03c78e-b57d-11e8-a19b-0242ac110001"
      },
      {
       "current": "498ddb38-b59d-11e8-a19b-0242ac110001",
       "next": "0436abf4-b59e-11e8-a19b-0242ac110001",
       "previous": "cf03c78e-b57d-11e8-a19b-0242ac110001"
      }
     ],
     "next": "7c688c7e-b59d-11e8-a19b-0242ac110001",
     "previous": "cf03c78e-b57d-11e8-a19b-0242ac110001"
    }
   },
   "source": [
    "## Apacheの設定変更"
   ]
  },
  {
   "cell_type": "markdown",
   "metadata": {
    "lc_cell_meme": {
     "current": "7c688c7e-b59d-11e8-a19b-0242ac110001",
     "history": [
      {
       "current": "7c688c7e-b59d-11e8-a19b-0242ac110001",
       "next": "d825875c-b592-11e8-a19b-0242ac110001",
       "previous": "498ddb38-b59d-11e8-a19b-0242ac110001"
      },
      {
       "current": "7c688c7e-b59d-11e8-a19b-0242ac110001",
       "next": "d825875c-b592-11e8-a19b-0242ac110001",
       "previous": "0436abf4-b59e-11e8-a19b-0242ac110001"
      }
     ],
     "next": "8ceab760-b59e-11e8-a19b-0242ac110001",
     "previous": "498ddb38-b59d-11e8-a19b-0242ac110001"
    }
   },
   "source": [
    "WEBサーバを経由し、NFSのファイルが参照できる事を確認していく"
   ]
  },
  {
   "cell_type": "markdown",
   "metadata": {
    "lc_cell_meme": {
     "current": "8ceab760-b59e-11e8-a19b-0242ac110001",
     "next": "0436abf4-b59e-11e8-a19b-0242ac110001",
     "previous": "7c688c7e-b59d-11e8-a19b-0242ac110001"
    }
   },
   "source": [
    "WEBサーバのApacheの設定ファイル`/etc/httpd/conf/httpd.conf`を、Jupyter上に`httpd.conf.org`としてバックアップする"
   ]
  },
  {
   "cell_type": "code",
   "execution_count": 133,
   "metadata": {
    "deletable": false,
    "editable": false,
    "lc_cell_meme": {
     "current": "0436abf4-b59e-11e8-a19b-0242ac110001",
     "history": [
      {
       "current": "0436abf4-b59e-11e8-a19b-0242ac110001",
       "next": "7c688c7e-b59d-11e8-a19b-0242ac110001",
       "previous": "498ddb38-b59d-11e8-a19b-0242ac110001"
      },
      {
       "current": "0436abf4-b59e-11e8-a19b-0242ac110001",
       "next": "d825875c-b592-11e8-a19b-0242ac110001",
       "previous": "8ceab760-b59e-11e8-a19b-0242ac110001"
      },
      {
       "current": "0436abf4-b59e-11e8-a19b-0242ac110001",
       "next": "d825875c-b592-11e8-a19b-0242ac110001",
       "previous": "0436abf4-b59e-11e8-a19b-0242ac110001"
      }
     ],
     "next": "d825875c-b592-11e8-a19b-0242ac110001",
     "previous": "8ceab760-b59e-11e8-a19b-0242ac110001"
    },
    "run_through_control": {
     "frozen": true,
     "read_only": false
    },
    "scrolled": true
   },
   "outputs": [
    {
     "name": "stdout",
     "output_type": "stream",
     "text": [
      "\r",
      "httpd.conf                                      0%    0     0.0KB/s   --:-- ETA\r",
      "httpd.conf                                    100%   11KB  11.5KB/s   00:00    \n"
     ]
    }
   ],
   "source": [
    "scp root@${IP_ADDRESS_WEB}:/etc/httpd/conf/httpd.conf /notebooks/001_project/サーバー構築研修/CentOS_7/Step-2/httpd.conf.org"
   ]
  },
  {
   "cell_type": "markdown",
   "metadata": {
    "lc_cell_meme": {
     "current": "d825875c-b592-11e8-a19b-0242ac110001",
     "history": [
      {
       "current": "d825875c-b592-11e8-a19b-0242ac110001",
       "next": "d8258a86-b592-11e8-a19b-0242ac110001",
       "previous": "cf03c78e-b57d-11e8-a19b-0242ac110001"
      },
      {
       "current": "d825875c-b592-11e8-a19b-0242ac110001",
       "next": "d8258cb6-b592-11e8-a19b-0242ac110001",
       "previous": "d8258a86-b592-11e8-a19b-0242ac110001"
      },
      {
       "current": "d825875c-b592-11e8-a19b-0242ac110001",
       "next": "d8258ec8-b592-11e8-a19b-0242ac110001",
       "previous": "d8258a86-b592-11e8-a19b-0242ac110001"
      },
      {
       "current": "d825875c-b592-11e8-a19b-0242ac110001",
       "next": "d8258ec8-b592-11e8-a19b-0242ac110001",
       "previous": "498ddb38-b59d-11e8-a19b-0242ac110001"
      },
      {
       "current": "d825875c-b592-11e8-a19b-0242ac110001",
       "next": "d8258ec8-b592-11e8-a19b-0242ac110001",
       "previous": "7c688c7e-b59d-11e8-a19b-0242ac110001"
      }
     ],
     "next": "d8258ec8-b592-11e8-a19b-0242ac110001",
     "previous": "0436abf4-b59e-11e8-a19b-0242ac110001"
    }
   },
   "source": [
    "`DocumentRoot`を`/mnt/html`に変更し、アクセス権限を編集したJupyter上の`httpd.conf`をscpコマンドでWEBサーバへ配置する"
   ]
  },
  {
   "cell_type": "code",
   "execution_count": 126,
   "metadata": {
    "deletable": false,
    "editable": false,
    "lc_cell_meme": {
     "current": "d8258ec8-b592-11e8-a19b-0242ac110001",
     "history": [
      {
       "current": "d8258ec8-b592-11e8-a19b-0242ac110001",
       "next": "d82590d0-b592-11e8-a19b-0242ac110001",
       "previous": "d8258cb6-b592-11e8-a19b-0242ac110001"
      },
      {
       "current": "d8258ec8-b592-11e8-a19b-0242ac110001",
       "next": "d8258cb6-b592-11e8-a19b-0242ac110001",
       "previous": "d825875c-b592-11e8-a19b-0242ac110001"
      }
     ],
     "next": "eab98a0a-b595-11e8-a19b-0242ac110001",
     "previous": "d825875c-b592-11e8-a19b-0242ac110001"
    },
    "run_through_control": {
     "frozen": true,
     "read_only": false
    }
   },
   "outputs": [
    {
     "name": "stdout",
     "output_type": "stream",
     "text": [
      "\r",
      "httpd.conf                                      0%    0     0.0KB/s   --:-- ETA\r",
      "httpd.conf                                    100%   11KB  11.5KB/s   00:00    \n"
     ]
    }
   ],
   "source": [
    "scp /notebooks/001_project/サーバー構築研修/CentOS_7/Step-2/httpd.conf root@${IP_ADDRESS_WEB}:/etc/httpd/conf/httpd.conf"
   ]
  },
  {
   "cell_type": "markdown",
   "metadata": {
    "lc_cell_meme": {
     "current": "eab98a0a-b595-11e8-a19b-0242ac110001",
     "next": "d8258cb6-b592-11e8-a19b-0242ac110001",
     "previous": "d8258ec8-b592-11e8-a19b-0242ac110001"
    }
   },
   "source": [
    "WEBサーバの`httpd.conf`の`DocumentRoot`が`/mnt/html`になっている事を確認する"
   ]
  },
  {
   "cell_type": "code",
   "execution_count": 127,
   "metadata": {
    "deletable": false,
    "editable": false,
    "lc_cell_meme": {
     "current": "d8258cb6-b592-11e8-a19b-0242ac110001",
     "history": [
      {
       "current": "d8258cb6-b592-11e8-a19b-0242ac110001",
       "next": "d8258ec8-b592-11e8-a19b-0242ac110001",
       "previous": "d8258a86-b592-11e8-a19b-0242ac110001"
      },
      {
       "current": "d8258cb6-b592-11e8-a19b-0242ac110001",
       "next": "d8258ec8-b592-11e8-a19b-0242ac110001",
       "previous": "d825875c-b592-11e8-a19b-0242ac110001"
      },
      {
       "current": "d8258cb6-b592-11e8-a19b-0242ac110001",
       "next": "d82590d0-b592-11e8-a19b-0242ac110001",
       "previous": "d8258ec8-b592-11e8-a19b-0242ac110001"
      }
     ],
     "next": "eab98d5c-b595-11e8-a19b-0242ac110001",
     "previous": "eab98a0a-b595-11e8-a19b-0242ac110001"
    },
    "run_through_control": {
     "frozen": true,
     "read_only": false
    },
    "scrolled": true
   },
   "outputs": [
    {
     "name": "stdout",
     "output_type": "stream",
     "text": [
      "   115\t# DocumentRoot: The directory out of which you will serve your\n",
      "   119\tDocumentRoot \"/mnt/html\"\n",
      "   230\t    # access content that does not live under the DocumentRoot.\n"
     ]
    }
   ],
   "source": [
    "ssh root@${IP_ADDRESS_WEB} \"cat -n /etc/httpd/conf/httpd.conf | grep DocumentRoot\""
   ]
  },
  {
   "cell_type": "markdown",
   "metadata": {
    "lc_cell_meme": {
     "current": "eab98d5c-b595-11e8-a19b-0242ac110001",
     "next": "eab98f82-b595-11e8-a19b-0242ac110001",
     "previous": "d8258cb6-b592-11e8-a19b-0242ac110001"
    }
   },
   "source": [
    "## Apacheの実行"
   ]
  },
  {
   "cell_type": "markdown",
   "metadata": {
    "lc_cell_meme": {
     "current": "eab98f82-b595-11e8-a19b-0242ac110001",
     "next": "eab99194-b595-11e8-a19b-0242ac110001",
     "previous": "eab98d5c-b595-11e8-a19b-0242ac110001"
    }
   },
   "source": [
    "Apacheのサービス`(httpd)`を起動する"
   ]
  },
  {
   "cell_type": "code",
   "execution_count": 132,
   "metadata": {
    "deletable": false,
    "editable": false,
    "lc_cell_meme": {
     "current": "eab99194-b595-11e8-a19b-0242ac110001",
     "history": [
      {
       "current": "eab99194-b595-11e8-a19b-0242ac110001",
       "next": "55e77b56-b4a7-11e8-a19b-0242ac110001",
       "previous": "eab98f82-b595-11e8-a19b-0242ac110001"
      }
     ],
     "next": "79c6ce74-b596-11e8-a19b-0242ac110001",
     "previous": "eab98f82-b595-11e8-a19b-0242ac110001"
    },
    "run_through_control": {
     "frozen": true,
     "read_only": false
    }
   },
   "outputs": [],
   "source": [
    "ssh root@${IP_ADDRESS_WEB} \"systemctl restart httpd\""
   ]
  },
  {
   "cell_type": "markdown",
   "metadata": {
    "lc_cell_meme": {
     "current": "79c6ce74-b596-11e8-a19b-0242ac110001",
     "next": "79c6d1bc-b596-11e8-a19b-0242ac110001",
     "previous": "eab99194-b595-11e8-a19b-0242ac110001"
    }
   },
   "source": [
    "サービスが稼働しているか確認する"
   ]
  },
  {
   "cell_type": "code",
   "execution_count": 129,
   "metadata": {
    "deletable": false,
    "editable": false,
    "lc_cell_meme": {
     "current": "79c6d1bc-b596-11e8-a19b-0242ac110001",
     "next": "55e77b56-b4a7-11e8-a19b-0242ac110001",
     "previous": "79c6ce74-b596-11e8-a19b-0242ac110001"
    },
    "run_through_control": {
     "frozen": true,
     "read_only": false
    }
   },
   "outputs": [
    {
     "name": "stdout",
     "output_type": "stream",
     "text": [
      "Redirecting to /bin/systemctl status httpd.service\n",
      "● httpd.service - The Apache HTTP Server\n",
      "   Loaded: loaded (/usr/lib/systemd/system/httpd.service; disabled; vendor preset: disabled)\n",
      "   Active: active (running) since Wed 2018-09-26 10:18:40 JST; 3s ago\n",
      "     Docs: man:httpd(8)\n",
      "           man:apachectl(8)\n",
      " Main PID: 1669 (httpd)\n",
      "   Status: \"Processing requests...\"\n",
      "   CGroup: /system.slice/httpd.service\n",
      "           ├─1669 /usr/sbin/httpd -DFOREGROUND\n",
      "           ├─1670 /usr/sbin/httpd -DFOREGROUND\n",
      "           ├─1671 /usr/sbin/httpd -DFOREGROUND\n",
      "           ├─1672 /usr/sbin/httpd -DFOREGROUND\n",
      "           ├─1673 /usr/sbin/httpd -DFOREGROUND\n",
      "           └─1674 /usr/sbin/httpd -DFOREGROUND\n",
      "\n",
      "Sep 26 10:18:39 www1 systemd[1]: Starting The Apache HTTP Server...\n",
      "Sep 26 10:18:39 www1 httpd[1669]: AH00558: httpd: Could not reliably determine the server's fully qualified domain name, using fe80::4d40:7d9d:ca6b:defe. Set the 'ServerName' directive globally to suppress this message\n",
      "Sep 26 10:18:40 www1 systemd[1]: Started The Apache HTTP Server.\n"
     ]
    }
   ],
   "source": [
    "ssh root@${IP_ADDRESS_WEB} \"service httpd status\""
   ]
  },
  {
   "cell_type": "markdown",
   "metadata": {
    "lc_cell_meme": {
     "current": "55e77b56-b4a7-11e8-a19b-0242ac110001",
     "history": [
      {
       "current": "55e77b56-b4a7-11e8-a19b-0242ac110001",
       "next": null,
       "previous": "55e77926-b4a7-11e8-a19b-0242ac110001"
      },
      {
       "current": "55e77b56-b4a7-11e8-a19b-0242ac110001",
       "next": "9d82eaae-b4a7-11e8-a19b-0242ac110001",
       "previous": "55e77926-b4a7-11e8-a19b-0242ac110001"
      },
      {
       "current": "55e77b56-b4a7-11e8-a19b-0242ac110001",
       "next": "9d82eaae-b4a7-11e8-a19b-0242ac110001",
       "previous": "cf03c78e-b57d-11e8-a19b-0242ac110001"
      },
      {
       "current": "55e77b56-b4a7-11e8-a19b-0242ac110001",
       "next": "9d82eaae-b4a7-11e8-a19b-0242ac110001",
       "previous": "d82590d0-b592-11e8-a19b-0242ac110001"
      },
      {
       "current": "55e77b56-b4a7-11e8-a19b-0242ac110001",
       "next": "9d82eaae-b4a7-11e8-a19b-0242ac110001",
       "previous": "eab99194-b595-11e8-a19b-0242ac110001"
      }
     ],
     "next": "9d82eaae-b4a7-11e8-a19b-0242ac110001",
     "previous": "79c6d1bc-b596-11e8-a19b-0242ac110001"
    }
   },
   "source": [
    "## Webブラウザで接続確認"
   ]
  },
  {
   "cell_type": "markdown",
   "metadata": {
    "lc_cell_meme": {
     "current": "9d82eaae-b4a7-11e8-a19b-0242ac110001",
     "history": [
      {
       "current": "9d82eaae-b4a7-11e8-a19b-0242ac110001",
       "next": null,
       "previous": "55e77b56-b4a7-11e8-a19b-0242ac110001"
      }
     ],
     "next": "da774176-b4a7-11e8-a19b-0242ac110001",
     "previous": "55e77b56-b4a7-11e8-a19b-0242ac110001"
    }
   },
   "source": [
    "[http://192.168.1.231:80](http://192.168.1.231:80)へアクセスする"
   ]
  },
  {
   "cell_type": "markdown",
   "metadata": {
    "lc_cell_meme": {
     "current": "da774176-b4a7-11e8-a19b-0242ac110001",
     "history": [
      {
       "current": "da774176-b4a7-11e8-a19b-0242ac110001",
       "next": null,
       "previous": "9d82eaae-b4a7-11e8-a19b-0242ac110001"
      },
      {
       "current": "da774176-b4a7-11e8-a19b-0242ac110001",
       "next": "ce1f5314-b4cf-11e8-a19b-0242ac110001",
       "previous": "9d82eaae-b4a7-11e8-a19b-0242ac110001"
      },
      {
       "current": "da774176-b4a7-11e8-a19b-0242ac110001",
       "next": "c14ce3d2-b596-11e8-a19b-0242ac110001",
       "previous": "9d82eaae-b4a7-11e8-a19b-0242ac110001"
      }
     ],
     "next": "08d40d84-b597-11e8-a19b-0242ac110001",
     "previous": "9d82eaae-b4a7-11e8-a19b-0242ac110001"
    }
   },
   "source": [
    "NFSサーバの`/var/www/html/index.html`の内容を変更し、ブラウザ上で反映されたらOK"
   ]
  },
  {
   "cell_type": "markdown",
   "metadata": {
    "deletable": false,
    "editable": false,
    "lc_cell_meme": {
     "current": "08d40d84-b597-11e8-a19b-0242ac110001",
     "history": [
      {
       "current": "08d40d84-b597-11e8-a19b-0242ac110001",
       "next": null,
       "previous": "da774176-b4a7-11e8-a19b-0242ac110001"
      },
      {
       "current": "08d40d84-b597-11e8-a19b-0242ac110001",
       "next": "df9c5de4-b597-11e8-a19b-0242ac110001",
       "previous": "da774176-b4a7-11e8-a19b-0242ac110001"
      },
      {
       "current": "08d40d84-b597-11e8-a19b-0242ac110001",
       "next": "aae0346a-b59a-11e8-a19b-0242ac110001",
       "previous": "da774176-b4a7-11e8-a19b-0242ac110001"
      }
     ],
     "next": "9bcb6aa2-b6ef-11e8-a19b-0242ac110001",
     "previous": "da774176-b4a7-11e8-a19b-0242ac110001"
    },
    "run_through_control": {
     "frozen": false,
     "read_only": true
    }
   },
   "source": [
    "## Sambaの設定"
   ]
  },
  {
   "cell_type": "markdown",
   "metadata": {
    "lc_cell_meme": {
     "current": "9bcb6aa2-b6ef-11e8-a19b-0242ac110001",
     "next": "9bcb6dea-b6ef-11e8-a19b-0242ac110001",
     "previous": "08d40d84-b597-11e8-a19b-0242ac110001"
    }
   },
   "source": [
    "Sambaをインストールする"
   ]
  },
  {
   "cell_type": "code",
   "execution_count": 134,
   "metadata": {
    "deletable": false,
    "editable": false,
    "lc_cell_meme": {
     "current": "9bcb6dea-b6ef-11e8-a19b-0242ac110001",
     "next": "aae0346a-b59a-11e8-a19b-0242ac110001",
     "previous": "9bcb6aa2-b6ef-11e8-a19b-0242ac110001"
    },
    "run_through_control": {
     "frozen": true,
     "read_only": false
    }
   },
   "outputs": [
    {
     "name": "stdout",
     "output_type": "stream",
     "text": [
      "Loaded plugins: fastestmirror, langpacks\n",
      "Determining fastest mirrors\n",
      " * base: ftp.yz.yamagata-u.ac.jp\n",
      " * extras: ftp.yz.yamagata-u.ac.jp\n",
      " * updates: ftp.yz.yamagata-u.ac.jp\n",
      "Resolving Dependencies\n",
      "--> Running transaction check\n",
      "---> Package samba.x86_64 0:4.7.1-6.el7 will be updated\n",
      "---> Package samba.x86_64 0:4.7.1-9.el7_5 will be an update\n",
      "--> Processing Dependency: samba-libs = 4.7.1-9.el7_5 for package: samba-4.7.1-9.el7_5.x86_64\n",
      "--> Processing Dependency: samba-common-tools = 4.7.1-9.el7_5 for package: samba-4.7.1-9.el7_5.x86_64\n",
      "--> Processing Dependency: samba-common-libs = 4.7.1-9.el7_5 for package: samba-4.7.1-9.el7_5.x86_64\n",
      "--> Processing Dependency: samba-common = 4.7.1-9.el7_5 for package: samba-4.7.1-9.el7_5.x86_64\n",
      "--> Processing Dependency: samba-common = 4.7.1-9.el7_5 for package: samba-4.7.1-9.el7_5.x86_64\n",
      "--> Processing Dependency: samba-client-libs = 4.7.1-9.el7_5 for package: samba-4.7.1-9.el7_5.x86_64\n",
      "--> Processing Dependency: libwbclient = 4.7.1-9.el7_5 for package: samba-4.7.1-9.el7_5.x86_64\n",
      "--> Running transaction check\n",
      "---> Package libwbclient.x86_64 0:4.7.1-6.el7 will be updated\n",
      "---> Package libwbclient.x86_64 0:4.7.1-9.el7_5 will be an update\n",
      "---> Package samba-client-libs.x86_64 0:4.7.1-6.el7 will be updated\n",
      "--> Processing Dependency: samba-client-libs = 4.7.1-6.el7 for package: libsmbclient-4.7.1-6.el7.x86_64\n",
      "--> Processing Dependency: samba-client-libs = 4.7.1-6.el7 for package: samba-client-4.7.1-6.el7.x86_64\n",
      "---> Package samba-client-libs.x86_64 0:4.7.1-9.el7_5 will be an update\n",
      "---> Package samba-common.noarch 0:4.7.1-6.el7 will be updated\n",
      "---> Package samba-common.noarch 0:4.7.1-9.el7_5 will be an update\n",
      "---> Package samba-common-libs.x86_64 0:4.7.1-6.el7 will be updated\n",
      "---> Package samba-common-libs.x86_64 0:4.7.1-9.el7_5 will be an update\n",
      "---> Package samba-common-tools.x86_64 0:4.7.1-6.el7 will be updated\n",
      "---> Package samba-common-tools.x86_64 0:4.7.1-9.el7_5 will be an update\n",
      "---> Package samba-libs.x86_64 0:4.7.1-6.el7 will be updated\n",
      "---> Package samba-libs.x86_64 0:4.7.1-9.el7_5 will be an update\n",
      "--> Running transaction check\n",
      "---> Package libsmbclient.x86_64 0:4.7.1-6.el7 will be updated\n",
      "---> Package libsmbclient.x86_64 0:4.7.1-9.el7_5 will be an update\n",
      "---> Package samba-client.x86_64 0:4.7.1-6.el7 will be updated\n",
      "---> Package samba-client.x86_64 0:4.7.1-9.el7_5 will be an update\n",
      "--> Finished Dependency Resolution\n",
      "\n",
      "Dependencies Resolved\n",
      "\n",
      "================================================================================\n",
      " Package                  Arch         Version              Repository     Size\n",
      "================================================================================\n",
      "Updating:\n",
      " samba                    x86_64       4.7.1-9.el7_5        updates       662 k\n",
      "Updating for dependencies:\n",
      " libsmbclient             x86_64       4.7.1-9.el7_5        updates       132 k\n",
      " libwbclient              x86_64       4.7.1-9.el7_5        updates       107 k\n",
      " samba-client             x86_64       4.7.1-9.el7_5        updates       609 k\n",
      " samba-client-libs        x86_64       4.7.1-9.el7_5        updates       4.8 M\n",
      " samba-common             noarch       4.7.1-9.el7_5        updates       205 k\n",
      " samba-common-libs        x86_64       4.7.1-9.el7_5        updates       162 k\n",
      " samba-common-tools       x86_64       4.7.1-9.el7_5        updates       464 k\n",
      " samba-libs               x86_64       4.7.1-9.el7_5        updates       275 k\n",
      "\n",
      "Transaction Summary\n",
      "================================================================================\n",
      "Upgrade  1 Package (+8 Dependent packages)\n",
      "\n",
      "Total download size: 7.4 M\n",
      "Downloading packages:\n",
      "Delta RPMs disabled because /usr/bin/applydeltarpm not installed.\n",
      "--------------------------------------------------------------------------------\n",
      "Total                                              229 kB/s | 7.4 MB  00:32     \n",
      "Running transaction check\n",
      "Running transaction test\n",
      "Transaction test succeeded\n",
      "Running transaction\n",
      "  Updating   : samba-common-4.7.1-9.el7_5.noarch                           1/18 \n",
      "  Updating   : samba-common-libs-4.7.1-9.el7_5.x86_64                      2/18 \n",
      "  Updating   : libwbclient-4.7.1-9.el7_5.x86_64                            3/18 \n",
      "  Updating   : samba-client-libs-4.7.1-9.el7_5.x86_64                      4/18 \n",
      "  Updating   : samba-libs-4.7.1-9.el7_5.x86_64                             5/18 \n",
      "  Updating   : samba-common-tools-4.7.1-9.el7_5.x86_64                     6/18 \n",
      "  Updating   : libsmbclient-4.7.1-9.el7_5.x86_64                           7/18 \n",
      "  Updating   : samba-client-4.7.1-9.el7_5.x86_64                           8/18 \n",
      "  Updating   : samba-4.7.1-9.el7_5.x86_64                                  9/18 \n",
      "  Cleanup    : samba-4.7.1-6.el7.x86_64                                   10/18 \n",
      "  Cleanup    : samba-client-4.7.1-6.el7.x86_64                            11/18 \n",
      "  Cleanup    : samba-common-tools-4.7.1-6.el7.x86_64                      12/18 \n",
      "  Cleanup    : samba-libs-4.7.1-6.el7.x86_64                              13/18 \n",
      "  Cleanup    : libsmbclient-4.7.1-6.el7.x86_64                            14/18 \n",
      "  Cleanup    : samba-common-libs-4.7.1-6.el7.x86_64                       15/18 \n",
      "  Cleanup    : libwbclient-4.7.1-6.el7.x86_64                             16/18 \n",
      "  Cleanup    : samba-client-libs-4.7.1-6.el7.x86_64                       17/18 \n",
      "  Cleanup    : samba-common-4.7.1-6.el7.noarch                            18/18 \n",
      "  Verifying  : samba-client-libs-4.7.1-9.el7_5.x86_64                      1/18 \n",
      "  Verifying  : samba-common-libs-4.7.1-9.el7_5.x86_64                      2/18 \n",
      "  Verifying  : samba-client-4.7.1-9.el7_5.x86_64                           3/18 \n",
      "  Verifying  : samba-4.7.1-9.el7_5.x86_64                                  4/18 \n",
      "  Verifying  : libwbclient-4.7.1-9.el7_5.x86_64                            5/18 \n",
      "  Verifying  : samba-common-4.7.1-9.el7_5.noarch                           6/18 \n",
      "  Verifying  : libsmbclient-4.7.1-9.el7_5.x86_64                           7/18 \n",
      "  Verifying  : samba-common-tools-4.7.1-9.el7_5.x86_64                     8/18 \n",
      "  Verifying  : samba-libs-4.7.1-9.el7_5.x86_64                             9/18 \n",
      "  Verifying  : samba-client-libs-4.7.1-6.el7.x86_64                       10/18 \n",
      "  Verifying  : samba-common-libs-4.7.1-6.el7.x86_64                       11/18 \n",
      "  Verifying  : samba-client-4.7.1-6.el7.x86_64                            12/18 \n",
      "  Verifying  : samba-libs-4.7.1-6.el7.x86_64                              13/18 \n",
      "  Verifying  : samba-common-tools-4.7.1-6.el7.x86_64                      14/18 \n",
      "  Verifying  : libsmbclient-4.7.1-6.el7.x86_64                            15/18 \n",
      "  Verifying  : samba-common-4.7.1-6.el7.noarch                            16/18 \n",
      "  Verifying  : samba-4.7.1-6.el7.x86_64                                   17/18 \n",
      "  Verifying  : libwbclient-4.7.1-6.el7.x86_64                             18/18 \n",
      "\n",
      "Updated:\n",
      "  samba.x86_64 0:4.7.1-9.el7_5                                                  \n",
      "\n",
      "Dependency Updated:\n",
      "  libsmbclient.x86_64 0:4.7.1-9.el7_5                                           \n",
      "  libwbclient.x86_64 0:4.7.1-9.el7_5                                            \n",
      "  samba-client.x86_64 0:4.7.1-9.el7_5                                           \n",
      "  samba-client-libs.x86_64 0:4.7.1-9.el7_5                                      \n",
      "  samba-common.noarch 0:4.7.1-9.el7_5                                           \n",
      "  samba-common-libs.x86_64 0:4.7.1-9.el7_5                                      \n",
      "  samba-common-tools.x86_64 0:4.7.1-9.el7_5                                     \n",
      "  samba-libs.x86_64 0:4.7.1-9.el7_5                                             \n",
      "\n",
      "Complete!\n"
     ]
    }
   ],
   "source": [
    "ssh root@${IP_ADDRESS_NFS} \"yum -y install samba\""
   ]
  },
  {
   "cell_type": "markdown",
   "metadata": {
    "lc_cell_meme": {
     "current": "aae0346a-b59a-11e8-a19b-0242ac110001",
     "history": [
      {
       "current": "aae0346a-b59a-11e8-a19b-0242ac110001",
       "next": "df9c5de4-b597-11e8-a19b-0242ac110001",
       "previous": "08d40d84-b597-11e8-a19b-0242ac110001"
      }
     ],
     "next": "df9c5de4-b597-11e8-a19b-0242ac110001",
     "previous": "9bcb6dea-b6ef-11e8-a19b-0242ac110001"
    }
   },
   "source": [
    "Sambaがインストールされているか確認する"
   ]
  },
  {
   "cell_type": "code",
   "execution_count": 135,
   "metadata": {
    "deletable": false,
    "editable": false,
    "lc_cell_meme": {
     "current": "df9c5de4-b597-11e8-a19b-0242ac110001",
     "history": [
      {
       "current": "df9c5de4-b597-11e8-a19b-0242ac110001",
       "next": null,
       "previous": "08d40d84-b597-11e8-a19b-0242ac110001"
      },
      {
       "current": "df9c5de4-b597-11e8-a19b-0242ac110001",
       "next": "aae037e4-b59a-11e8-a19b-0242ac110001",
       "previous": "aae0346a-b59a-11e8-a19b-0242ac110001"
      },
      {
       "current": "df9c5de4-b597-11e8-a19b-0242ac110001",
       "next": "39b587bc-b59b-11e8-a19b-0242ac110001",
       "previous": "aae0346a-b59a-11e8-a19b-0242ac110001"
      }
     ],
     "next": "813b405e-b59b-11e8-a19b-0242ac110001",
     "previous": "aae0346a-b59a-11e8-a19b-0242ac110001"
    },
    "pinned_outputs": [],
    "run_through_control": {
     "frozen": true,
     "read_only": false
    },
    "scrolled": true
   },
   "outputs": [
    {
     "name": "stdout",
     "output_type": "stream",
     "text": [
      "samba-libs-4.7.1-9.el7_5.x86_64\n",
      "samba-common-libs-4.7.1-9.el7_5.x86_64\n",
      "samba-client-libs-4.7.1-9.el7_5.x86_64\n",
      "samba-client-4.7.1-9.el7_5.x86_64\n",
      "samba-common-4.7.1-9.el7_5.noarch\n",
      "samba-4.7.1-9.el7_5.x86_64\n",
      "samba-common-tools-4.7.1-9.el7_5.x86_64\n"
     ]
    }
   ],
   "source": [
    "ssh root@${IP_ADDRESS_NFS} \"rpm -qa | grep samba\""
   ]
  },
  {
   "cell_type": "markdown",
   "metadata": {
    "lc_cell_meme": {
     "current": "813b405e-b59b-11e8-a19b-0242ac110001",
     "history": [
      {
       "current": "813b405e-b59b-11e8-a19b-0242ac110001",
       "next": "39b587bc-b59b-11e8-a19b-0242ac110001",
       "previous": "df9c5de4-b597-11e8-a19b-0242ac110001"
      }
     ],
     "next": "62169e94-b6fe-11e8-a19b-0242ac110001",
     "previous": "df9c5de4-b597-11e8-a19b-0242ac110001"
    }
   },
   "source": [
    "`User=testuser, Password=Passw0rd`をLinuxアカウントとして作成する"
   ]
  },
  {
   "cell_type": "code",
   "execution_count": 136,
   "metadata": {
    "deletable": false,
    "editable": false,
    "lc_cell_meme": {
     "current": "62169e94-b6fe-11e8-a19b-0242ac110001",
     "next": "6216a1e6-b6fe-11e8-a19b-0242ac110001",
     "previous": "813b405e-b59b-11e8-a19b-0242ac110001"
    },
    "run_through_control": {
     "frozen": true,
     "read_only": false
    }
   },
   "outputs": [],
   "source": [
    "ssh root@${IP_ADDRESS_NFS} \"useradd testuser\""
   ]
  },
  {
   "cell_type": "code",
   "execution_count": 137,
   "metadata": {
    "deletable": false,
    "editable": false,
    "lc_cell_meme": {
     "current": "6216a1e6-b6fe-11e8-a19b-0242ac110001",
     "history": [
      {
       "current": "6216a1e6-b6fe-11e8-a19b-0242ac110001",
       "next": "39b587bc-b59b-11e8-a19b-0242ac110001",
       "previous": "62169e94-b6fe-11e8-a19b-0242ac110001"
      }
     ],
     "next": "38a9b662-b6ff-11e8-a19b-0242ac110001",
     "previous": "62169e94-b6fe-11e8-a19b-0242ac110001"
    },
    "run_through_control": {
     "frozen": true,
     "read_only": false
    }
   },
   "outputs": [
    {
     "name": "stdout",
     "output_type": "stream",
     "text": [
      "New password: BAD PASSWORD: The password fails the dictionary check - it is based on a dictionary word\n",
      "Retype new password: Changing password for user testuser.\n",
      "passwd: all authentication tokens updated successfully.\n"
     ]
    }
   ],
   "source": [
    "ssh root@${IP_ADDRESS_NFS} \"echo -e 'Passw0rd\\nPassw0rd' | passwd testuser\""
   ]
  },
  {
   "cell_type": "markdown",
   "metadata": {
    "lc_cell_meme": {
     "current": "38a9b662-b6ff-11e8-a19b-0242ac110001",
     "next": "39b587bc-b59b-11e8-a19b-0242ac110001",
     "previous": "6216a1e6-b6fe-11e8-a19b-0242ac110001"
    }
   },
   "source": [
    "作成したLinuxアカウントを、Sambaのアクセス用アカウントとして登録する"
   ]
  },
  {
   "cell_type": "code",
   "execution_count": 138,
   "metadata": {
    "deletable": false,
    "editable": false,
    "lc_cell_meme": {
     "current": "39b587bc-b59b-11e8-a19b-0242ac110001",
     "history": [
      {
       "current": "39b587bc-b59b-11e8-a19b-0242ac110001",
       "next": "aae037e4-b59a-11e8-a19b-0242ac110001",
       "previous": "df9c5de4-b597-11e8-a19b-0242ac110001"
      },
      {
       "current": "39b587bc-b59b-11e8-a19b-0242ac110001",
       "next": "aae037e4-b59a-11e8-a19b-0242ac110001",
       "previous": "813b405e-b59b-11e8-a19b-0242ac110001"
      },
      {
       "current": "39b587bc-b59b-11e8-a19b-0242ac110001",
       "next": "a9ba4004-b6ed-11e8-a19b-0242ac110001",
       "previous": "813b405e-b59b-11e8-a19b-0242ac110001"
      },
      {
       "current": "39b587bc-b59b-11e8-a19b-0242ac110001",
       "next": "a9ba4004-b6ed-11e8-a19b-0242ac110001",
       "previous": "6216a1e6-b6fe-11e8-a19b-0242ac110001"
      }
     ],
     "next": "a9ba4004-b6ed-11e8-a19b-0242ac110001",
     "previous": "38a9b662-b6ff-11e8-a19b-0242ac110001"
    },
    "pinned_outputs": [],
    "run_through_control": {
     "frozen": true,
     "read_only": false
    }
   },
   "outputs": [
    {
     "name": "stdout",
     "output_type": "stream",
     "text": [
      "Unix username:        testuser\n",
      "NT username:          \n",
      "Account Flags:        [U          ]\n",
      "User SID:             S-1-5-21-1889915723-3787007393-3394710721-1000\n",
      "Primary Group SID:    S-1-5-21-1889915723-3787007393-3394710721-513\n",
      "Full Name:            \n",
      "Home Directory:       \\\\nfs1\\testuser\n",
      "HomeDir Drive:        \n",
      "Logon Script:         \n",
      "Profile Path:         \\\\nfs1\\testuser\\profile\n",
      "Domain:               NFS1\n",
      "Account desc:         \n",
      "Workstations:         \n",
      "Munged dial:          \n",
      "Logon time:           0\n",
      "Logoff time:          Thu, 07 Feb 2036 00:06:39 JST\n",
      "Kickoff time:         Thu, 07 Feb 2036 00:06:39 JST\n",
      "Password last set:    Wed, 26 Sep 2018 10:33:11 JST\n",
      "Password can change:  Wed, 26 Sep 2018 10:33:11 JST\n",
      "Password must change: never\n",
      "Last bad password   : 0\n",
      "Bad password count  : 0\n",
      "Logon hours         : FFFFFFFFFFFFFFFFFFFFFFFFFFFFFFFFFFFFFFFFFF\n"
     ]
    }
   ],
   "source": [
    "ssh root@${IP_ADDRESS_NFS} \"echo -e 'Passw0rd\\nPassw0rd' | pdbedit -a -t testuser\""
   ]
  },
  {
   "cell_type": "markdown",
   "metadata": {
    "lc_cell_meme": {
     "current": "a9ba4004-b6ed-11e8-a19b-0242ac110001",
     "next": "aae037e4-b59a-11e8-a19b-0242ac110001",
     "previous": "39b587bc-b59b-11e8-a19b-0242ac110001"
    }
   },
   "source": [
    "Samba用のアカウントが追加されていることを確認する"
   ]
  },
  {
   "cell_type": "code",
   "execution_count": 139,
   "metadata": {
    "deletable": false,
    "editable": false,
    "lc_cell_meme": {
     "current": "aae037e4-b59a-11e8-a19b-0242ac110001",
     "history": [
      {
       "current": "aae037e4-b59a-11e8-a19b-0242ac110001",
       "next": null,
       "previous": "df9c5de4-b597-11e8-a19b-0242ac110001"
      },
      {
       "current": "aae037e4-b59a-11e8-a19b-0242ac110001",
       "next": "f2650fb8-b59a-11e8-a19b-0242ac110001",
       "previous": "df9c5de4-b597-11e8-a19b-0242ac110001"
      },
      {
       "current": "aae037e4-b59a-11e8-a19b-0242ac110001",
       "next": "f2650fb8-b59a-11e8-a19b-0242ac110001",
       "previous": "39b587bc-b59b-11e8-a19b-0242ac110001"
      },
      {
       "current": "aae037e4-b59a-11e8-a19b-0242ac110001",
       "next": "f2650fb8-b59a-11e8-a19b-0242ac110001",
       "previous": "a9ba4004-b6ed-11e8-a19b-0242ac110001"
      },
      {
       "current": "aae037e4-b59a-11e8-a19b-0242ac110001",
       "next": "9bcb701a-b6ef-11e8-a19b-0242ac110001",
       "previous": "a9ba4004-b6ed-11e8-a19b-0242ac110001"
      },
      {
       "current": "aae037e4-b59a-11e8-a19b-0242ac110001",
       "next": "04092fc2-b6f1-11e8-a19b-0242ac110001",
       "previous": "a9ba4004-b6ed-11e8-a19b-0242ac110001"
      }
     ],
     "next": "c7b83554-b6ff-11e8-a19b-0242ac110001",
     "previous": "a9ba4004-b6ed-11e8-a19b-0242ac110001"
    },
    "pinned_outputs": [],
    "run_through_control": {
     "frozen": true,
     "read_only": false
    }
   },
   "outputs": [
    {
     "name": "stdout",
     "output_type": "stream",
     "text": [
      "testuser:1000:\n"
     ]
    }
   ],
   "source": [
    "ssh root@${IP_ADDRESS_NFS} \"pdbedit -L\""
   ]
  },
  {
   "cell_type": "markdown",
   "metadata": {
    "lc_cell_meme": {
     "current": "c7b83554-b6ff-11e8-a19b-0242ac110001",
     "next": "c7b83888-b6ff-11e8-a19b-0242ac110001",
     "previous": "aae037e4-b59a-11e8-a19b-0242ac110001"
    }
   },
   "source": [
    "Sambaの共有フォルダをNFSサーバ上で`/share`として作成する"
   ]
  },
  {
   "cell_type": "code",
   "execution_count": 140,
   "metadata": {
    "deletable": false,
    "editable": false,
    "lc_cell_meme": {
     "current": "c7b83888-b6ff-11e8-a19b-0242ac110001",
     "next": "04092fc2-b6f1-11e8-a19b-0242ac110001",
     "previous": "c7b83554-b6ff-11e8-a19b-0242ac110001"
    },
    "run_through_control": {
     "frozen": true,
     "read_only": false
    }
   },
   "outputs": [],
   "source": [
    "ssh root@${IP_ADDRESS_NFS} \"mkdir /share\""
   ]
  },
  {
   "cell_type": "markdown",
   "metadata": {
    "lc_cell_meme": {
     "current": "04092fc2-b6f1-11e8-a19b-0242ac110001",
     "history": [
      {
       "current": "04092fc2-b6f1-11e8-a19b-0242ac110001",
       "next": "8ceab760-b59e-11e8-a19b-0242ac110001",
       "previous": "aae037e4-b59a-11e8-a19b-0242ac110001"
      }
     ],
     "next": "8ceab760-b59e-11e8-a19b-0242ac110001",
     "previous": "c7b83888-b6ff-11e8-a19b-0242ac110001"
    }
   },
   "source": [
    "## Sambaの設定変更"
   ]
  },
  {
   "cell_type": "markdown",
   "metadata": {
    "lc_cell_meme": {
     "current": "8ceab760-b59e-11e8-a19b-0242ac110001",
     "history": [
      {
       "current": "8ceab760-b59e-11e8-a19b-0242ac110001",
       "next": "0436abf4-b59e-11e8-a19b-0242ac110001",
       "previous": "7c688c7e-b59d-11e8-a19b-0242ac110001"
      },
      {
       "current": "8ceab760-b59e-11e8-a19b-0242ac110001",
       "next": "0436abf4-b59e-11e8-a19b-0242ac110001",
       "previous": "f2650fb8-b59a-11e8-a19b-0242ac110001"
      }
     ],
     "next": "0436abf4-b59e-11e8-a19b-0242ac110001",
     "previous": "04092fc2-b6f1-11e8-a19b-0242ac110001"
    }
   },
   "source": [
    "NFSサーバのSambaの設定ファイル`/etc/samba/smb.conf`を、Jupyter上に`smb.conf.org`としてバックアップする"
   ]
  },
  {
   "cell_type": "code",
   "execution_count": 142,
   "metadata": {
    "deletable": false,
    "editable": false,
    "lc_cell_meme": {
     "current": "0436abf4-b59e-11e8-a19b-0242ac110001",
     "history": [
      {
       "current": "0436abf4-b59e-11e8-a19b-0242ac110001",
       "next": "7c688c7e-b59d-11e8-a19b-0242ac110001",
       "previous": "498ddb38-b59d-11e8-a19b-0242ac110001"
      },
      {
       "current": "0436abf4-b59e-11e8-a19b-0242ac110001",
       "next": "d825875c-b592-11e8-a19b-0242ac110001",
       "previous": "8ceab760-b59e-11e8-a19b-0242ac110001"
      },
      {
       "current": "0436abf4-b59e-11e8-a19b-0242ac110001",
       "next": "0409330a-b6f1-11e8-a19b-0242ac110001",
       "previous": "8ceab760-b59e-11e8-a19b-0242ac110001"
      },
      {
       "current": "0436abf4-b59e-11e8-a19b-0242ac110001",
       "next": "d825875c-b592-11e8-a19b-0242ac110001",
       "previous": "8ceab760-b59e-11e8-a19b-0242ac110001"
      },
      {
       "current": "0436abf4-b59e-11e8-a19b-0242ac110001",
       "next": "1a8ff57a-b6fe-11e8-a19b-0242ac110001",
       "previous": "8ceab760-b59e-11e8-a19b-0242ac110001"
      }
     ],
     "next": "d825875c-b592-11e8-a19b-0242ac110001",
     "previous": "8ceab760-b59e-11e8-a19b-0242ac110001"
    },
    "run_through_control": {
     "frozen": true,
     "read_only": false
    },
    "scrolled": true
   },
   "outputs": [
    {
     "name": "stdout",
     "output_type": "stream",
     "text": [
      "\r",
      "smb.conf                                        0%    0     0.0KB/s   --:-- ETA\r",
      "smb.conf                                      100%  908     0.9KB/s   00:00    \n"
     ]
    }
   ],
   "source": [
    "scp root@${IP_ADDRESS_NFS}:/etc/samba/smb.conf /notebooks/001_project/サーバー構築研修/CentOS_7/Step-2/samba.conf.org"
   ]
  },
  {
   "cell_type": "markdown",
   "metadata": {
    "lc_cell_meme": {
     "current": "d825875c-b592-11e8-a19b-0242ac110001",
     "history": [
      {
       "current": "d825875c-b592-11e8-a19b-0242ac110001",
       "next": "d8258a86-b592-11e8-a19b-0242ac110001",
       "previous": "cf03c78e-b57d-11e8-a19b-0242ac110001"
      },
      {
       "current": "d825875c-b592-11e8-a19b-0242ac110001",
       "next": "d8258cb6-b592-11e8-a19b-0242ac110001",
       "previous": "d8258a86-b592-11e8-a19b-0242ac110001"
      },
      {
       "current": "d825875c-b592-11e8-a19b-0242ac110001",
       "next": "d8258ec8-b592-11e8-a19b-0242ac110001",
       "previous": "d8258a86-b592-11e8-a19b-0242ac110001"
      },
      {
       "current": "d825875c-b592-11e8-a19b-0242ac110001",
       "next": "d8258ec8-b592-11e8-a19b-0242ac110001",
       "previous": "498ddb38-b59d-11e8-a19b-0242ac110001"
      },
      {
       "current": "d825875c-b592-11e8-a19b-0242ac110001",
       "next": "d8258ec8-b592-11e8-a19b-0242ac110001",
       "previous": "7c688c7e-b59d-11e8-a19b-0242ac110001"
      },
      {
       "current": "d825875c-b592-11e8-a19b-0242ac110001",
       "next": "d8258ec8-b592-11e8-a19b-0242ac110001",
       "previous": "0436abf4-b59e-11e8-a19b-0242ac110001"
      },
      {
       "current": "d825875c-b592-11e8-a19b-0242ac110001",
       "next": "d8258ec8-b592-11e8-a19b-0242ac110001",
       "previous": "0409330a-b6f1-11e8-a19b-0242ac110001"
      },
      {
       "current": "d825875c-b592-11e8-a19b-0242ac110001",
       "next": "d8258ec8-b592-11e8-a19b-0242ac110001",
       "previous": "0436abf4-b59e-11e8-a19b-0242ac110001"
      },
      {
       "current": "d825875c-b592-11e8-a19b-0242ac110001",
       "next": "d8258ec8-b592-11e8-a19b-0242ac110001",
       "previous": "1a8ff8c2-b6fe-11e8-a19b-0242ac110001"
      }
     ],
     "next": "d8258ec8-b592-11e8-a19b-0242ac110001",
     "previous": "0436abf4-b59e-11e8-a19b-0242ac110001"
    }
   },
   "source": [
    "設定を変更したJupyter上の`samba.conf`をscpコマンドでNFSサーバへ配置する"
   ]
  },
  {
   "cell_type": "code",
   "execution_count": 143,
   "metadata": {
    "deletable": false,
    "editable": false,
    "lc_cell_meme": {
     "current": "d8258ec8-b592-11e8-a19b-0242ac110001",
     "history": [
      {
       "current": "d8258ec8-b592-11e8-a19b-0242ac110001",
       "next": "d82590d0-b592-11e8-a19b-0242ac110001",
       "previous": "d8258cb6-b592-11e8-a19b-0242ac110001"
      },
      {
       "current": "d8258ec8-b592-11e8-a19b-0242ac110001",
       "next": "d8258cb6-b592-11e8-a19b-0242ac110001",
       "previous": "d825875c-b592-11e8-a19b-0242ac110001"
      },
      {
       "current": "d8258ec8-b592-11e8-a19b-0242ac110001",
       "next": "eab98a0a-b595-11e8-a19b-0242ac110001",
       "previous": "d825875c-b592-11e8-a19b-0242ac110001"
      },
      {
       "current": "d8258ec8-b592-11e8-a19b-0242ac110001",
       "next": "2de1848e-b629-11e8-a19b-0242ac110001",
       "previous": "d825875c-b592-11e8-a19b-0242ac110001"
      }
     ],
     "next": "57203246-b700-11e8-a19b-0242ac110001",
     "previous": "d825875c-b592-11e8-a19b-0242ac110001"
    },
    "run_through_control": {
     "frozen": true,
     "read_only": false
    }
   },
   "outputs": [
    {
     "name": "stdout",
     "output_type": "stream",
     "text": [
      "\r",
      "samba.conf                                      0%    0     0.0KB/s   --:-- ETA\r",
      "samba.conf                                    100%  908     0.9KB/s   00:00    \n"
     ]
    }
   ],
   "source": [
    "scp /notebooks/001_project/サーバー構築研修/CentOS_7/Step-2/samba.conf root@${IP_ADDRESS_NFS}:/etc/samba/smb.conf"
   ]
  },
  {
   "cell_type": "markdown",
   "metadata": {
    "lc_cell_meme": {
     "current": "57203246-b700-11e8-a19b-0242ac110001",
     "next": "2de1848e-b629-11e8-a19b-0242ac110001",
     "previous": "d8258ec8-b592-11e8-a19b-0242ac110001"
    }
   },
   "source": [
    "設定ファイル`samba.conf`の変更内容は以下の通りである"
   ]
  },
  {
   "cell_type": "markdown",
   "metadata": {
    "lc_cell_meme": {
     "current": "2de1848e-b629-11e8-a19b-0242ac110001",
     "history": [
      {
       "current": "2de1848e-b629-11e8-a19b-0242ac110001",
       "next": null,
       "previous": "f2650fb8-b59a-11e8-a19b-0242ac110001"
      },
      {
       "current": "2de1848e-b629-11e8-a19b-0242ac110001",
       "next": null,
       "previous": "d8258cb6-b592-11e8-a19b-0242ac110001"
      },
      {
       "current": "2de1848e-b629-11e8-a19b-0242ac110001",
       "next": "9bcb701a-b6ef-11e8-a19b-0242ac110001",
       "previous": "d8258cb6-b592-11e8-a19b-0242ac110001"
      },
      {
       "current": "2de1848e-b629-11e8-a19b-0242ac110001",
       "next": "9bcb701a-b6ef-11e8-a19b-0242ac110001",
       "previous": "d8258ec8-b592-11e8-a19b-0242ac110001"
      },
      {
       "current": "2de1848e-b629-11e8-a19b-0242ac110001",
       "next": "c7b83ac2-b6ff-11e8-a19b-0242ac110001",
       "previous": "d8258ec8-b592-11e8-a19b-0242ac110001"
      }
     ],
     "next": "c7b83ac2-b6ff-11e8-a19b-0242ac110001",
     "previous": "57203246-b700-11e8-a19b-0242ac110001"
    }
   },
   "source": [
    "- workgroup名をWORKGROUPに変更\n",
    "  - Windows側の端末のワークグループ名は、`WORKGROUP`と設定すること\n",
    "- 接続を許可するIPアドレスを、`192.168.1.0/24`、`10.100.110.0/24`、`10.100.100.0/24`に変更\n",
    "- `Share`という共有名を作成し、共有先ディレクトリをNFSサーバの`/share`と設定"
   ]
  },
  {
   "cell_type": "markdown",
   "metadata": {
    "lc_cell_meme": {
     "current": "c7b83ac2-b6ff-11e8-a19b-0242ac110001",
     "next": "9bcb701a-b6ef-11e8-a19b-0242ac110001",
     "previous": "2de1848e-b629-11e8-a19b-0242ac110001"
    }
   },
   "source": [
    "## Sambaの実行"
   ]
  },
  {
   "cell_type": "markdown",
   "metadata": {
    "lc_cell_meme": {
     "current": "9bcb701a-b6ef-11e8-a19b-0242ac110001",
     "history": [
      {
       "current": "9bcb701a-b6ef-11e8-a19b-0242ac110001",
       "next": "f2650fb8-b59a-11e8-a19b-0242ac110001",
       "previous": "aae037e4-b59a-11e8-a19b-0242ac110001"
      },
      {
       "current": "9bcb701a-b6ef-11e8-a19b-0242ac110001",
       "next": "f2650fb8-b59a-11e8-a19b-0242ac110001",
       "previous": "2de1848e-b629-11e8-a19b-0242ac110001"
      }
     ],
     "next": "f2650fb8-b59a-11e8-a19b-0242ac110001",
     "previous": "c7b83ac2-b6ff-11e8-a19b-0242ac110001"
    }
   },
   "source": [
    "Sambaのサービスを起動する"
   ]
  },
  {
   "cell_type": "code",
   "execution_count": 144,
   "metadata": {
    "deletable": false,
    "editable": false,
    "lc_cell_meme": {
     "current": "f2650fb8-b59a-11e8-a19b-0242ac110001",
     "history": [
      {
       "current": "f2650fb8-b59a-11e8-a19b-0242ac110001",
       "next": null,
       "previous": "aae037e4-b59a-11e8-a19b-0242ac110001"
      },
      {
       "current": "f2650fb8-b59a-11e8-a19b-0242ac110001",
       "next": "2de1848e-b629-11e8-a19b-0242ac110001",
       "previous": "aae037e4-b59a-11e8-a19b-0242ac110001"
      },
      {
       "current": "f2650fb8-b59a-11e8-a19b-0242ac110001",
       "next": "2de1848e-b629-11e8-a19b-0242ac110001",
       "previous": "9bcb701a-b6ef-11e8-a19b-0242ac110001"
      },
      {
       "current": "f2650fb8-b59a-11e8-a19b-0242ac110001",
       "next": null,
       "previous": "9bcb701a-b6ef-11e8-a19b-0242ac110001"
      }
     ],
     "next": "0f3d9d56-b700-11e8-a19b-0242ac110001",
     "previous": "9bcb701a-b6ef-11e8-a19b-0242ac110001"
    },
    "run_through_control": {
     "frozen": true,
     "read_only": false
    }
   },
   "outputs": [
    {
     "name": "stdout",
     "output_type": "stream",
     "text": [
      "Redirecting to /bin/systemctl restart smb.service\n"
     ]
    }
   ],
   "source": [
    "ssh root@${IP_ADDRESS_NFS} \"service smb restart\""
   ]
  },
  {
   "cell_type": "markdown",
   "metadata": {
    "lc_cell_meme": {
     "current": "0f3d9d56-b700-11e8-a19b-0242ac110001",
     "next": "0f3da0a8-b700-11e8-a19b-0242ac110001",
     "previous": "f2650fb8-b59a-11e8-a19b-0242ac110001"
    }
   },
   "source": [
    "## Samba接続確認"
   ]
  },
  {
   "cell_type": "markdown",
   "metadata": {
    "lc_cell_meme": {
     "current": "0f3da0a8-b700-11e8-a19b-0242ac110001",
     "next": "0f3da2ce-b700-11e8-a19b-0242ac110001",
     "previous": "0f3d9d56-b700-11e8-a19b-0242ac110001"
    }
   },
   "source": [
    "Windows PCから、Sambaの共有ディレクトリにアクセスする  \n",
    "`win` + `E`でエクスプローラを開き、`\\\\192.168.1.213`へ`User=testuser, Password=Passw0rd`としてアクセスする"
   ]
  },
  {
   "cell_type": "markdown",
   "metadata": {
    "lc_cell_meme": {
     "current": "0f3da2ce-b700-11e8-a19b-0242ac110001",
     "next": null,
     "previous": "0f3da0a8-b700-11e8-a19b-0242ac110001"
    }
   },
   "source": [
    "Windows PC、NFSサーバ側共に、ファイルを作成&配置し、互いのファイルを編集&変更されたらOK"
   ]
  }
 ],
 "metadata": {
  "kernelspec": {
   "display_name": "Bash",
   "language": "bash",
   "name": "bash"
  },
  "language_info": {
   "codemirror_mode": "shell",
   "file_extension": ".sh",
   "mimetype": "text/x-sh",
   "name": "bash"
  },
  "lc_notebook_meme": {
   "current": "d6188d22-b495-11e8-a19b-0242ac110001",
   "lc_server_signature": {
    "current": {
     "notebook_dir": "/notebooks",
     "notebook_path": "/001_project/サーバー構築研修/CentOS_7/Step-2",
     "server_url": "http://10.100.100.240:8888/",
     "signature_id": "1bb2a61c-5e6d-11e8-a19b-0242ac110001"
    },
    "history": [
     {
      "notebook_dir": "/notebooks",
      "notebook_path": "/001_project/サーバー構築研修/CentOS_6/Step_1",
      "server_url": "http://10.100.100.240:8888/",
      "signature_id": "1bb2a61c-5e6d-11e8-a19b-0242ac110001"
     },
     {
      "notebook_dir": "/notebooks",
      "notebook_path": "/001_project/サーバー構築研修/CentOS_6/Step-1",
      "server_url": "http://10.100.100.240:8888/",
      "signature_id": "1bb2a61c-5e6d-11e8-a19b-0242ac110001"
     },
     {
      "notebook_dir": "/notebooks",
      "notebook_path": "/001_project/サーバー構築研修/CentOS_6/Step-2",
      "server_url": "http://10.100.100.240:8888/",
      "signature_id": "1bb2a61c-5e6d-11e8-a19b-0242ac110001"
     }
    ]
   }
  },
  "toc": {
   "base_numbering": 1,
   "nav_menu": {},
   "number_sections": true,
   "sideBar": true,
   "skip_h1_title": false,
   "title_cell": "Table of Contents",
   "title_sidebar": "Contents",
   "toc_cell": false,
   "toc_position": {},
   "toc_section_display": true,
   "toc_window_display": false
  }
 },
 "nbformat": 4,
 "nbformat_minor": 2
}
